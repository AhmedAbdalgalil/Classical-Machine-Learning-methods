{
 "cells": [
  {
   "cell_type": "markdown",
   "id": "52ec74c0",
   "metadata": {},
   "source": [
    "   #             <font color=green>            Assignment 1 </font>\n",
    "#           <font color=green>   Classical Machine Learning methods</font>"
   ]
  },
  {
   "cell_type": "markdown",
   "id": "d6c1f2a3",
   "metadata": {},
   "source": [
    "### Names:\n",
    "### احمد صبري علي..........................................................  stdcode: 9190360\n",
    "### احمد طارق احمد..........................................................   stdcode: 9190287\n",
    "### احمد عبدالجليل محمود...................................................   stdcode: 9190454\n",
    "### طه عبدالفتاح  كمال.......................................................   stdcode: 9190459\n",
    "### يوسف خالد السيد.........................................................    stdcode: 9190827"
   ]
  },
  {
   "cell_type": "code",
   "execution_count": 24,
   "id": "1a42c036",
   "metadata": {},
   "outputs": [],
   "source": [
    "import pandas as pd\n",
    "import matplotlib.pyplot as plt\n",
    "import numpy as np\n",
    "import sklearn\n",
    "from sklearn.linear_model import LinearRegression\n",
    "from sklearn.preprocessing import PolynomialFeatures\n",
    "from sklearn.model_selection import train_test_split"
   ]
  },
  {
   "cell_type": "markdown",
   "id": "aa985a96",
   "metadata": {},
   "source": [
    "# <font color=red> Part 1 </font>"
   ]
  },
  {
   "cell_type": "markdown",
   "id": "dfc8b359",
   "metadata": {},
   "source": [
    "##  <font color=brown> 1-The numbers of insured persons y with an insurance company for the years 1987 to 1996 are shown in the table. </font>"
   ]
  },
  {
   "cell_type": "code",
   "execution_count": 25,
   "id": "3129ed30",
   "metadata": {},
   "outputs": [],
   "source": [
    "Year =[1987 ,1988 ,1989 ,1990 ,1991 ,1992 ,1993 ,1994 , 1995 ,1996]\n",
    "y=[14000, 13000, 12000, 11000, 1050,10000 ,9500 ,9000 , 8700 ,8000]\n",
    "Year_array=np.array(Year).reshape(-1,1)\n",
    "y_array=np.array(y).reshape(-1,1)"
   ]
  },
  {
   "cell_type": "markdown",
   "id": "def68a7b",
   "metadata": {},
   "source": [
    "### Make a scatterplot of the data, letting x represent the number of years since 1987."
   ]
  },
  {
   "cell_type": "code",
   "execution_count": 26,
   "id": "748d9eb8",
   "metadata": {},
   "outputs": [
    {
     "data": {
      "image/png": "[encoded data removed]",
      "text/plain": [
       "<Figure size 640x480 with 1 Axes>"
      ]
     },
     "metadata": {},
     "output_type": "display_data"
    }
   ],
   "source": [
    "plt.scatter(Year, y)\n",
    "plt.xlabel(\"Year\")\n",
    "plt.ylabel(\"y\")\n",
    "plt.show()"
   ]
  },
  {
   "cell_type": "markdown",
   "id": "c7efee00",
   "metadata": {},
   "source": [
    "#### a) Fit linear, quadratic, cubic, by comparing the values of 2 R . Determine the  function that best fits the data. (Hint: take care of note 4 above)\n",
    "####  b) In all your answers in each model, write down the equations of your solutions (after calculating its parameters).\n",
    "####  c) Graph the function of best fit with the scatterplot of the data.\n",
    "#### d) With the best function found in part (b), predict the average number of insured  persons in 1997."
   ]
  },
  {
   "cell_type": "markdown",
   "id": "c3dde4fc",
   "metadata": {},
   "source": [
    "### I.Fit linear (before removing outliers)"
   ]
  },
  {
   "cell_type": "markdown",
   "id": "89fd4226",
   "metadata": {},
   "source": [
    "#### Hand analysis"
   ]
  },
  {
   "cell_type": "code",
   "execution_count": 27,
   "id": "92836988",
   "metadata": {},
   "outputs": [],
   "source": [
    "\n",
    "#\n",
    "#\n",
    "#\n",
    "#\n",
    "#\n",
    "#\n",
    "#\n",
    "#\n",
    "#\n",
    "#\n",
    "#\n",
    "#\n",
    "#\n",
    "#\n",
    "#\n",
    "#\n",
    "#\n",
    "#\n",
    "#\n",
    "#\n",
    "#\n",
    "#\n",
    "#\n",
    "#\n",
    "#"
   ]
  },
  {
   "cell_type": "code",
   "execution_count": 28,
   "id": "7fb540aa",
   "metadata": {},
   "outputs": [
    {
     "name": "stdout",
     "output_type": "stream",
     "text": [
      "linear model coeff (w): [[-573.63636364]]\n",
      "linear model intercept (b):[1152021.81818182]\n",
      "R-squared score (training): 0.235\n"
     ]
    }
   ],
   "source": [
    "linreg = LinearRegression().fit(Year_array,y_array)\n",
    "print('linear model coeff (w): {}'\n",
    ".format(linreg.coef_))\n",
    "print('linear model intercept (b):'+ str(linreg.intercept_))# {:.3f}\n",
    "print('R-squared score (training): {:.3f}'\n",
    ".format(linreg.score(Year_array, y_array)))"
   ]
  },
  {
   "cell_type": "markdown",
   "id": "ef7bd4a2",
   "metadata": {},
   "source": [
    " #### equations : y =-573.636363645 x + 1152021.81818182"
   ]
  },
  {
   "cell_type": "code",
   "execution_count": 29,
   "id": "a033be92",
   "metadata": {},
   "outputs": [],
   "source": [
    "#ploting\n",
    "#plt.figure(figsize=(5,4))\n",
    "#plt.scatter(Year_array, y_array, marker= 'o', s=50, alpha=0.8)\n",
    "#plt.plot(Year_array, linreg.coef_ * Year_array + linreg.intercept_, 'r-')\n",
    "#plt.title('Least-squares linear regression')\n",
    "#plt.xlabel('Feature value (x)')\n",
    "#plt.ylabel('Target value (y)')\n",
    "#plt.show()"
   ]
  },
  {
   "cell_type": "markdown",
   "id": "1788ee67",
   "metadata": {},
   "source": [
    "### II.Fit quadratic  (before removing outliers)"
   ]
  },
  {
   "cell_type": "code",
   "execution_count": 30,
   "id": "265b38fa",
   "metadata": {},
   "outputs": [
    {
     "name": "stdout",
     "output_type": "stream",
     "text": [
      "732770646.0604377 [-7.35316439e+05  1.84469697e+02]\n",
      "R-squared score (training): 0.390\n"
     ]
    }
   ],
   "source": [
    "poly = PolynomialFeatures(degree=2, include_bias=False)\n",
    "\n",
    "poly_features = poly.fit_transform(Year_array)\n",
    "\n",
    "poly_reg_model = LinearRegression()\n",
    "poly_reg_model.fit(poly_features, y)\n",
    "\n",
    "print(poly_reg_model.intercept_, poly_reg_model.coef_)\n",
    "print('R-squared score (training): {:.3f}'\n",
    ".format(poly_reg_model.score(poly_features, y_array)))"
   ]
  },
  {
   "cell_type": "markdown",
   "id": "dd1e2c46",
   "metadata": {},
   "source": [
    "#### equations: y = 1.84469697e+02 x^2 - 7.35316439e+05 x + 732770646.0604377 \n",
    "#### R-squared score (training): 0.390"
   ]
  },
  {
   "cell_type": "code",
   "execution_count": 31,
   "id": "9f18ed63",
   "metadata": {},
   "outputs": [],
   "source": [
    "#ploting\n",
    "#use model to make predictions on response variable\n",
    "#y_predicted = poly_reg_model.predict(poly_features)\n",
    "\n",
    "#create scatterplot of x vs. y\n",
    "#plt.scatter(x, y)\n",
    "\n",
    "#add line to show fitted polynomial regression model\n",
    "#plt.plot(x, y_predicted, color='purple')"
   ]
  },
  {
   "cell_type": "markdown",
   "id": "b7d944ea",
   "metadata": {},
   "source": [
    "### III.Fit cubic  (before removing outliers)"
   ]
  },
  {
   "cell_type": "code",
   "execution_count": 32,
   "id": "dfdb471a",
   "metadata": {},
   "outputs": [
    {
     "name": "stdout",
     "output_type": "stream",
     "text": [
      "227343925899.12286 [-3.42103702e+08  1.71597378e+05 -2.86907537e+01]\n",
      "R-squared score (training): 0.412\n"
     ]
    }
   ],
   "source": [
    "poly = PolynomialFeatures(degree=3, include_bias=False)\n",
    "\n",
    "poly_features = poly.fit_transform(Year_array)\n",
    "\n",
    "poly_reg_model = LinearRegression()\n",
    "poly_reg_model.fit(poly_features, y)\n",
    "\n",
    "print(poly_reg_model.intercept_, poly_reg_model.coef_)\n",
    "#use model to make predictions on response variable\n",
    "y_predicted = poly_reg_model.predict(poly_features)\n",
    "\n",
    "#create scatterplot of x vs. y\n",
    "#plt.scatter(x, y)\n",
    "\n",
    "#add line to show fitted polynomial regression model\n",
    "#plt.plot(x, y_predicted, color='purple')\n",
    "print('R-squared score (training): {:.3f}'\n",
    ".format(poly_reg_model.score(poly_features, y_array)))"
   ]
  },
  {
   "cell_type": "markdown",
   "id": "62fdb1aa",
   "metadata": {},
   "source": [
    "#### Equations: y = -2.86907537e+01  x3 + 1.71597378e+05    x2 –    -3.42103702e+08  x + 227343925899.12286 \n",
    "#### R-squared score (training): 0.412 (best fit)"
   ]
  },
  {
   "cell_type": "markdown",
   "id": "71be1bde",
   "metadata": {},
   "source": [
    "#### <font color=red> We can esaially notice that  point as 1991 is an outlier so we can simply remove it</font>\n",
    "\n"
   ]
  },
  {
   "cell_type": "code",
   "execution_count": 33,
   "id": "dd684c4e",
   "metadata": {},
   "outputs": [],
   "source": [
    "Year =[1987 ,1988 ,1989 ,1990 ,1992 ,1993 ,1994 , 1995 ,1996]\n",
    "y=[14000, 13000, 12000, 11000,10000 ,9500 ,9000 , 8700 ,8000]\n",
    "Year_array=np.array(Year).reshape(-1,1)\n",
    "y_array=np.array(y).reshape(-1,1)"
   ]
  },
  {
   "cell_type": "markdown",
   "id": "43f1709a",
   "metadata": {},
   "source": [
    "### I.Fit linear (After removing outliers)"
   ]
  },
  {
   "cell_type": "markdown",
   "id": "32db1719",
   "metadata": {},
   "source": [
    "#### Hand analysis"
   ]
  },
  {
   "cell_type": "code",
   "execution_count": 34,
   "id": "1bdd857e",
   "metadata": {},
   "outputs": [],
   "source": [
    "\n",
    "#\n",
    "#\n",
    "#\n",
    "#\n",
    "#\n",
    "#\n",
    "#\n",
    "#\n",
    "#\n",
    "#\n",
    "#\n",
    "#\n",
    "#\n",
    "#\n",
    "#\n",
    "#\n",
    "#\n",
    "#\n",
    "#\n",
    "#\n",
    "#\n",
    "#\n",
    "#\n",
    "#\n",
    "#"
   ]
  },
  {
   "cell_type": "code",
   "execution_count": 35,
   "id": "ab12a71b",
   "metadata": {},
   "outputs": [
    {
     "name": "stdout",
     "output_type": "stream",
     "text": [
      "linear model coeff (w): [[-633.51351351]]\n",
      "linear model intercept (b):[1272255.13513513]\n",
      "R-squared score (training): 0.972\n"
     ]
    }
   ],
   "source": [
    "from sklearn.linear_model import LinearRegression\n",
    "linreg = LinearRegression().fit(Year_array,y_array)\n",
    "print('linear model coeff (w): {}'\n",
    ".format(linreg.coef_))\n",
    "print('linear model intercept (b):'+ str(linreg.intercept_))# {:.3f}\n",
    "print('R-squared score (training): {:.3f}'\n",
    ".format(linreg.score(Year_array, y_array)))"
   ]
  },
  {
   "cell_type": "markdown",
   "id": "e70fb8bf",
   "metadata": {},
   "source": [
    " #### equations : y =-633.51351351 x + 1272255.13513513\n",
    " #### R-squared score (training): 0.972  (best fit ?)"
   ]
  },
  {
   "cell_type": "code",
   "execution_count": 36,
   "id": "aea8156a",
   "metadata": {},
   "outputs": [
    {
     "data": {
      "image/png": "[encoded data removed]",
      "text/plain": [
       "<Figure size 500x400 with 1 Axes>"
      ]
     },
     "metadata": {},
     "output_type": "display_data"
    }
   ],
   "source": [
    "#ploting\n",
    "plt.figure(figsize=(5,4))\n",
    "plt.scatter(Year_array, y_array, marker= 'o', s=50, alpha=0.8)\n",
    "plt.plot(Year_array, linreg.coef_ * Year_array + linreg.intercept_, 'r-')\n",
    "plt.title('Least-squares linear regression')\n",
    "plt.xlabel('Feature value (x)')\n",
    "plt.ylabel('Target value (y)')\n",
    "plt.show()"
   ]
  },
  {
   "cell_type": "markdown",
   "id": "2b372732",
   "metadata": {},
   "source": [
    "### II.Fit quadratic  (After removing outliers)"
   ]
  },
  {
   "cell_type": "code",
   "execution_count": 37,
   "id": "d5be8fad",
   "metadata": {},
   "outputs": [
    {
     "name": "stdout",
     "output_type": "stream",
     "text": [
      "160746103.33332503 [-1.60790561e+05  4.02107008e+01]\n",
      "R-squared score (training): 0.994\n"
     ]
    }
   ],
   "source": [
    "from sklearn.preprocessing import PolynomialFeatures\n",
    "from sklearn.linear_model import LinearRegression\n",
    "\n",
    "poly = PolynomialFeatures(degree=2, include_bias=False)\n",
    "\n",
    "poly_features = poly.fit_transform(Year_array)\n",
    "\n",
    "poly_reg_model = LinearRegression()\n",
    "poly_reg_model.fit(poly_features, y)\n",
    "\n",
    "print(poly_reg_model.intercept_, poly_reg_model.coef_)\n",
    "print('R-squared score (training): {:.3f}'\n",
    ".format(poly_reg_model.score(poly_features, y_array)))"
   ]
  },
  {
   "cell_type": "markdown",
   "id": "684e36e7",
   "metadata": {},
   "source": [
    "#### equations: y = 4.02107008e+01 x2 -1.60790561e+05 x +160746103.33332503  \n",
    "#### R-squared score (training): 0.994"
   ]
  },
  {
   "cell_type": "markdown",
   "id": "d8839a89",
   "metadata": {},
   "source": [
    "### III.Fit cubic  (After removing outliers)"
   ]
  },
  {
   "cell_type": "code",
   "execution_count": 38,
   "id": "11986fcb",
   "metadata": {},
   "outputs": [
    {
     "name": "stdout",
     "output_type": "stream",
     "text": [
      "[5.26156285e+10] [[-7.91772769e+07  3.97161957e+04 -6.64073164e+00]]\n",
      "R-squared score (training): 0.998\n"
     ]
    },
    {
     "data": {
      "image/png": "[encoded data removed]",
      "text/plain": [
       "<Figure size 640x480 with 1 Axes>"
      ]
     },
     "metadata": {},
     "output_type": "display_data"
    }
   ],
   "source": [
    "poly = PolynomialFeatures(degree=3, include_bias=False)\n",
    "\n",
    "poly_features = poly.fit_transform(Year_array)\n",
    "\n",
    "poly_reg_model = LinearRegression()\n",
    "poly_reg_model.fit(poly_features, y_array)\n",
    "\n",
    "print(poly_reg_model.intercept_, poly_reg_model.coef_)\n",
    "#use model to make predictions on response variable\n",
    "y_predicted = poly_reg_model.predict(poly_features)\n",
    "\n",
    "#create scatterplot of x vs. y\n",
    "plt.scatter(Year_array, y_array)\n",
    "plt.xlabel(\"Year\")\n",
    "plt.ylabel(\"y\")\n",
    "#add line to show fitted polynomial regression model\n",
    "plt.plot(Year_array, y_predicted, color='purple')\n",
    "print('R-squared score (training): {:.3f}'\n",
    ".format(poly_reg_model.score(poly_features, y_array)))"
   ]
  },
  {
   "cell_type": "markdown",
   "id": "48df78b6",
   "metadata": {},
   "source": [
    "#### Equations: y = -6.64073164  x3 + 3.97161957e+04    x2 –   7.91772769e+07  x + 5.26156285e+10 \n",
    "#### R-squared score (training): 0.998( best fit ?)\n"
   ]
  },
  {
   "cell_type": "markdown",
   "id": "99ef78d2",
   "metadata": {},
   "source": [
    "### <font color=red> Note: cubic is a littell  better than linear in terms of R BUT has has much more prameters as well so in real life i would prefer to use the linear model    </font>"
   ]
  },
  {
   "cell_type": "markdown",
   "id": "c988286f",
   "metadata": {},
   "source": [
    "#### d) With the best function found in part (b), predict the average number of insured persons in 1997.\n",
    "#####  --> i will use linear model for this"
   ]
  },
  {
   "cell_type": "code",
   "execution_count": 39,
   "id": "39090d0a",
   "metadata": {},
   "outputs": [
    {
     "data": {
      "image/png": "[encoded data removed]",
      "text/plain": [
       "<Figure size 500x400 with 1 Axes>"
      ]
     },
     "metadata": {},
     "output_type": "display_data"
    },
    {
     "name": "stdout",
     "output_type": "stream",
     "text": [
      "predict the average number of insured persons in 1997:\n",
      "7129\n"
     ]
    }
   ],
   "source": [
    "#ploting\n",
    "plt.figure(figsize=(5,4))\n",
    "plt.scatter(Year_array, y_array, marker= 'o', s=50, alpha=0.8)\n",
    "plt.plot(Year_array, linreg.coef_ * Year_array + linreg.intercept_, 'r-')\n",
    "plt.title('Least-squares linear regression')\n",
    "plt.xlabel('Feature value (x)')\n",
    "plt.ylabel('Target value (y)')\n",
    "plt.show()\n",
    "print(\"predict the average number of insured persons in 1997:\" )\n",
    "print(round([linreg.coef_ * [1997] + linreg.intercept_][0][0][0]))"
   ]
  },
  {
   "cell_type": "markdown",
   "id": "5efbc7c4",
   "metadata": {},
   "source": [
    "."
   ]
  },
  {
   "cell_type": "markdown",
   "id": "83744e60",
   "metadata": {},
   "source": [
    "##  <font color=brown>  2. The following data was obtained by throwing a rubber ball. Time (sec) Height (m </font>)\n"
   ]
  },
  {
   "cell_type": "code",
   "execution_count": 40,
   "id": "98f03e51",
   "metadata": {},
   "outputs": [],
   "source": [
    "Time=   np.array([0.0000,0.1080,0.2150,0.3225,0.4300,0.5375,0.6450,0.7525,0.8600]).reshape(-1,1)\n",
    "Height=np.array([1.03754,1.40205,1.63806,1.77412,1.80392,1.71522,1.50942,1.21410,0.83173])"
   ]
  },
  {
   "cell_type": "code",
   "execution_count": 41,
   "id": "7e017e89",
   "metadata": {},
   "outputs": [
    {
     "data": {
      "image/png": "[encoded data removed]",
      "text/plain": [
       "<Figure size 640x480 with 1 Axes>"
      ]
     },
     "metadata": {},
     "output_type": "display_data"
    }
   ],
   "source": [
    "plt.scatter(Time, Height)\n",
    "plt.xlabel(\"Time\")\n",
    "plt.ylabel(\"Height\")\n",
    "plt.show()"
   ]
  },
  {
   "cell_type": "markdown",
   "id": "e55cde4e",
   "metadata": {},
   "source": [
    "#### a) Fit linear, quadratic, cubic, and power functions to the data. By comparing the  values of 2 R, determine the function that best fits the data.\n",
    "####  b) In all your answers in each model, write down the equations of your solutions (after calculating its parameters).\n",
    "####  c) Graph the function of best fit with the scatterplot of the data.\n",
    "#### d) Determine the maximum height of the ball (in meters).\n",
    "#### e) With the model you selected in part (b), predict when the height of the ball is at least 1.5 meters.\n"
   ]
  },
  {
   "cell_type": "markdown",
   "id": "acd249b2",
   "metadata": {},
   "source": [
    "### I.Fit linear"
   ]
  },
  {
   "cell_type": "markdown",
   "id": "02c010ec",
   "metadata": {},
   "source": [
    "#### Hand analysis"
   ]
  },
  {
   "cell_type": "code",
   "execution_count": null,
   "id": "c3b13e9a",
   "metadata": {},
   "outputs": [],
   "source": [
    "\n",
    "#\n",
    "#\n",
    "#\n",
    "#\n",
    "#\n",
    "#\n",
    "#\n",
    "#\n",
    "#\n",
    "#\n",
    "#\n",
    "#\n",
    "#\n",
    "#\n",
    "#\n",
    "#\n",
    "#\n",
    "#\n",
    "#\n",
    "#\n",
    "#\n",
    "#\n",
    "#\n",
    "#\n",
    "#"
   ]
  },
  {
   "cell_type": "code",
   "execution_count": 42,
   "id": "03400348",
   "metadata": {},
   "outputs": [
    {
     "name": "stdout",
     "output_type": "stream",
     "text": [
      "linear model coeff (w): [-0.26422033]\n",
      "linear model intercept (b):1.5498694214445285\n",
      "R-squared score (training): 0.051\n"
     ]
    }
   ],
   "source": [
    "from sklearn.linear_model import LinearRegression\n",
    "linreg = LinearRegression().fit(Time,Height)\n",
    "print('linear model coeff (w): {}'\n",
    ".format(linreg.coef_))\n",
    "print('linear model intercept (b):'+ str(linreg.intercept_))# {:.3f}\n",
    "print('R-squared score (training): {:.3f}'\n",
    ".format(linreg.score(Time, Height)))"
   ]
  },
  {
   "cell_type": "markdown",
   "id": "d8368c55",
   "metadata": {},
   "source": [
    "#### equations: y = -0.26422033 x +1.5498694214445285\n",
    "#### R-squared score (training): 0.051 (super bad result)"
   ]
  },
  {
   "cell_type": "markdown",
   "id": "d262c869",
   "metadata": {},
   "source": [
    "### II.Fit quadratic  "
   ]
  },
  {
   "cell_type": "code",
   "execution_count": 43,
   "id": "6d398640",
   "metadata": {},
   "outputs": [
    {
     "name": "stdout",
     "output_type": "stream",
     "text": [
      "1.0449726483249395 [ 3.75827764 -4.67640316]\n",
      "R-squared score (training): 0.999\n"
     ]
    }
   ],
   "source": [
    "from sklearn.preprocessing import PolynomialFeatures\n",
    "from sklearn.linear_model import LinearRegression\n",
    "\n",
    "poly = PolynomialFeatures(degree=2, include_bias=False)\n",
    "\n",
    "poly_features = poly.fit_transform(Time)\n",
    "\n",
    "poly_reg_model = LinearRegression()\n",
    "poly_reg_model.fit(poly_features, Height)\n",
    "\n",
    "print(poly_reg_model.intercept_, poly_reg_model.coef_)\n",
    "print('R-squared score (training): {:.3f}'\n",
    ".format(poly_reg_model.score(poly_features, Height)))"
   ]
  },
  {
   "cell_type": "markdown",
   "id": "1f63d874",
   "metadata": {},
   "source": [
    "#### equations: y = -4.67640316 x2 + 3.75827764 x + 1.0449726483249395\n",
    "#### R-squared score (training): 0.999 (best model)"
   ]
  },
  {
   "cell_type": "code",
   "execution_count": 44,
   "id": "325f5399",
   "metadata": {},
   "outputs": [
    {
     "data": {
      "text/plain": [
       "[<matplotlib.lines.Line2D at 0x29af2039a60>]"
      ]
     },
     "execution_count": 44,
     "metadata": {},
     "output_type": "execute_result"
    },
    {
     "data": {
      "image/png": "[encoded data removed]",
      "text/plain": [
       "<Figure size 640x480 with 1 Axes>"
      ]
     },
     "metadata": {},
     "output_type": "display_data"
    }
   ],
   "source": [
    "#ploting\n",
    "#use model to make predictions on response variable\n",
    "y_predicted = poly_reg_model.predict(poly_features)\n",
    "\n",
    "#create scatterplot of x vs. y\n",
    "plt.scatter(Time, Height)\n",
    "plt.xlabel(\"Time\")\n",
    "plt.ylabel(\"Height\")\n",
    "#add line to show fitted polynomial regression model\n",
    "plt.plot(Time, y_predicted, color='purple')"
   ]
  },
  {
   "cell_type": "markdown",
   "id": "6f828308",
   "metadata": {},
   "source": [
    "### III.Fit cubic"
   ]
  },
  {
   "cell_type": "code",
   "execution_count": 45,
   "id": "134d3934",
   "metadata": {
    "scrolled": false
   },
   "outputs": [
    {
     "name": "stdout",
     "output_type": "stream",
     "text": [
      "1.0360980990311548 [ 3.93598527 -5.22436422  0.4247842 ]\n",
      "R-squared score (training): 1.000\n"
     ]
    },
    {
     "data": {
      "image/png": "[encoded data removed]",
      "text/plain": [
       "<Figure size 640x480 with 1 Axes>"
      ]
     },
     "metadata": {},
     "output_type": "display_data"
    }
   ],
   "source": [
    "poly = PolynomialFeatures(degree=3, include_bias=False)\n",
    "#(Time, Height)\n",
    "poly_features = poly.fit_transform(Time)\n",
    "\n",
    "poly_reg_model = LinearRegression()\n",
    "poly_reg_model.fit(poly_features, Height)\n",
    "\n",
    "print(poly_reg_model.intercept_, poly_reg_model.coef_)\n",
    "#use model to make predictions on response variable\n",
    "y_predicted = poly_reg_model.predict(poly_features)\n",
    "\n",
    "#create scatterplot of x vs. y\n",
    "plt.scatter(Time, Height)\n",
    "plt.xlabel(\"Time\")\n",
    "plt.ylabel(\"Height\")\n",
    "#add line to show fitted polynomial regression model\n",
    "plt.plot(Time, y_predicted, color='purple')\n",
    "print('R-squared score (training): {:.3f}'\n",
    ".format(poly_reg_model.score(poly_features, Height)))"
   ]
  },
  {
   "cell_type": "markdown",
   "id": "cf8d4ece",
   "metadata": {},
   "source": [
    "#### Equations: y = 0.4247842  x3   - 5.22436422    x2 +   3.93598527  x + 1.0360980990311548\n",
    "#### R-squared score (training):1.000 "
   ]
  },
  {
   "cell_type": "markdown",
   "id": "954ac343",
   "metadata": {},
   "source": [
    "### IV.power functions"
   ]
  },
  {
   "cell_type": "code",
   "execution_count": 46,
   "id": "d9ff3571",
   "metadata": {},
   "outputs": [
    {
     "name": "stdout",
     "output_type": "stream",
     "text": [
      "y = 1.54 * exp(x + -0.23)\n",
      "R-squared score: 0.018106856463688592\n"
     ]
    }
   ],
   "source": [
    "import numpy as np\n",
    "from sklearn.linear_model import LinearRegression\n",
    "X = Time\n",
    "Y = Height\n",
    "Y_log = np.log(Y)\n",
    "X_log = X.reshape(-1, 1)\n",
    "poly = PolynomialFeatures(degree=1)\n",
    "X_poly = poly.fit_transform(X_log)\n",
    "model = LinearRegression()\n",
    "model.fit(X_poly, Y_log)\n",
    "Y_pred = np.exp(model.predict(X_poly))\n",
    "a = np.exp(model.intercept_)\n",
    "b = model.coef_[1]\n",
    "print(\"y = {:.2f} * exp(x + {:.2f})\".format(a, b))\n",
    "from sklearn.metrics import r2_score\n",
    "\n",
    "# Calculate the R-squared score\n",
    "r2 = r2_score(Y, Y_pred)\n",
    "\n",
    "# Print the R-squared score\n",
    "print(\"R-squared score:\", r2)\n"
   ]
  },
  {
   "cell_type": "markdown",
   "id": "8fe2d30d",
   "metadata": {},
   "source": [
    "#### Equations: y = 1.54 * exp(x + -0.23)\n",
    "#### R-squared score (training): 0.018106856463688592"
   ]
  },
  {
   "cell_type": "markdown",
   "id": "c2a68790",
   "metadata": {},
   "source": [
    "### <font color=red> Note: cubic is a littel  better than quadratic in terms of R BUT has has much more prameters as well so in real life i would prefer to use the quadratic model    </font>"
   ]
  },
  {
   "cell_type": "markdown",
   "id": "be801670",
   "metadata": {},
   "source": [
    "#### d) Determine the maximum height of the ball (in meters).\n",
    "we wiil choose quadratic as best fit"
   ]
  },
  {
   "cell_type": "code",
   "execution_count": 47,
   "id": "17d587a5",
   "metadata": {},
   "outputs": [
    {
     "name": "stdout",
     "output_type": "stream",
     "text": [
      "1.0449726483249395 [ 3.75827764 -4.67640316]\n",
      "R-squared score (training): 0.999\n"
     ]
    }
   ],
   "source": [
    "poly = PolynomialFeatures(degree=2, include_bias=False)\n",
    "\n",
    "poly_features = poly.fit_transform(Time)\n",
    "\n",
    "poly_reg_model = LinearRegression()\n",
    "poly_reg_model.fit(poly_features, Height)\n",
    "\n",
    "print(poly_reg_model.intercept_, poly_reg_model.coef_)\n",
    "print('R-squared score (training): {:.3f}'\n",
    ".format(poly_reg_model.score(poly_features, Height)))"
   ]
  },
  {
   "cell_type": "code",
   "execution_count": 48,
   "id": "2546fed0",
   "metadata": {},
   "outputs": [],
   "source": [
    "poly_features = poly.fit_transform(np.linspace(0.1, 0.8, 10000).reshape(-1,1))\n",
    "y_predicted = poly_reg_model.predict(poly_features)\n"
   ]
  },
  {
   "cell_type": "code",
   "execution_count": 49,
   "id": "744d0a21",
   "metadata": {},
   "outputs": [
    {
     "data": {
      "text/plain": [
       "1.8000749246911951"
      ]
     },
     "execution_count": 49,
     "metadata": {},
     "output_type": "execute_result"
    }
   ],
   "source": [
    "y_predicted.max()"
   ]
  },
  {
   "cell_type": "markdown",
   "id": "7b7fcb6f",
   "metadata": {},
   "source": [
    "#### the maxmum hight is 1.8 meter"
   ]
  },
  {
   "cell_type": "markdown",
   "id": "6a0388be",
   "metadata": {},
   "source": [
    "#### e) With the model you selected in part (b), predict when the height of the ball is at least 1.5 meters."
   ]
  },
  {
   "cell_type": "code",
   "execution_count": 50,
   "id": "5c2c03ac",
   "metadata": {},
   "outputs": [
    {
     "data": {
      "text/plain": [
       "array([False, False, False, ..., False, False, False])"
      ]
     },
     "execution_count": 50,
     "metadata": {},
     "output_type": "execute_result"
    }
   ],
   "source": [
    "y_predicted>1.5"
   ]
  },
  {
   "cell_type": "code",
   "execution_count": 51,
   "id": "4728d41b",
   "metadata": {},
   "outputs": [
    {
     "data": {
      "text/html": [
       "<div>\n",
       "<style scoped>\n",
       "    .dataframe tbody tr th:only-of-type {\n",
       "        vertical-align: middle;\n",
       "    }\n",
       "\n",
       "    .dataframe tbody tr th {\n",
       "        vertical-align: top;\n",
       "    }\n",
       "\n",
       "    .dataframe thead th {\n",
       "        text-align: right;\n",
       "    }\n",
       "</style>\n",
       "<table border=\"1\" class=\"dataframe\">\n",
       "  <thead>\n",
       "    <tr style=\"text-align: right;\">\n",
       "      <th></th>\n",
       "      <th>time</th>\n",
       "      <th>hight</th>\n",
       "    </tr>\n",
       "  </thead>\n",
       "  <tbody>\n",
       "    <tr>\n",
       "      <th>0</th>\n",
       "      <td>0.10000</td>\n",
       "      <td>1.374036</td>\n",
       "    </tr>\n",
       "    <tr>\n",
       "      <th>1</th>\n",
       "      <td>0.10007</td>\n",
       "      <td>1.374234</td>\n",
       "    </tr>\n",
       "    <tr>\n",
       "      <th>2</th>\n",
       "      <td>0.10014</td>\n",
       "      <td>1.374432</td>\n",
       "    </tr>\n",
       "    <tr>\n",
       "      <th>3</th>\n",
       "      <td>0.10021</td>\n",
       "      <td>1.374629</td>\n",
       "    </tr>\n",
       "    <tr>\n",
       "      <th>4</th>\n",
       "      <td>0.10028</td>\n",
       "      <td>1.374827</td>\n",
       "    </tr>\n",
       "    <tr>\n",
       "      <th>...</th>\n",
       "      <td>...</td>\n",
       "      <td>...</td>\n",
       "    </tr>\n",
       "    <tr>\n",
       "      <th>9995</th>\n",
       "      <td>0.79972</td>\n",
       "      <td>1.059739</td>\n",
       "    </tr>\n",
       "    <tr>\n",
       "      <th>9996</th>\n",
       "      <td>0.79979</td>\n",
       "      <td>1.059479</td>\n",
       "    </tr>\n",
       "    <tr>\n",
       "      <th>9997</th>\n",
       "      <td>0.79986</td>\n",
       "      <td>1.059218</td>\n",
       "    </tr>\n",
       "    <tr>\n",
       "      <th>9998</th>\n",
       "      <td>0.79993</td>\n",
       "      <td>1.058957</td>\n",
       "    </tr>\n",
       "    <tr>\n",
       "      <th>9999</th>\n",
       "      <td>0.80000</td>\n",
       "      <td>1.058697</td>\n",
       "    </tr>\n",
       "  </tbody>\n",
       "</table>\n",
       "<p>10000 rows × 2 columns</p>\n",
       "</div>"
      ],
      "text/plain": [
       "         time     hight\n",
       "0     0.10000  1.374036\n",
       "1     0.10007  1.374234\n",
       "2     0.10014  1.374432\n",
       "3     0.10021  1.374629\n",
       "4     0.10028  1.374827\n",
       "...       ...       ...\n",
       "9995  0.79972  1.059739\n",
       "9996  0.79979  1.059479\n",
       "9997  0.79986  1.059218\n",
       "9998  0.79993  1.058957\n",
       "9999  0.80000  1.058697\n",
       "\n",
       "[10000 rows x 2 columns]"
      ]
     },
     "execution_count": 51,
     "metadata": {},
     "output_type": "execute_result"
    }
   ],
   "source": [
    "df=pd.DataFrame(np.linspace(0.1, 0.8, 10000).reshape(-1,1))\n",
    "df[\"hight\"]=y_predicted\n",
    "df.columns=[\"time\", 'hight']\n",
    "df"
   ]
  },
  {
   "cell_type": "code",
   "execution_count": 52,
   "id": "af79ed30",
   "metadata": {},
   "outputs": [
    {
     "data": {
      "text/html": [
       "<div>\n",
       "<style scoped>\n",
       "    .dataframe tbody tr th:only-of-type {\n",
       "        vertical-align: middle;\n",
       "    }\n",
       "\n",
       "    .dataframe tbody tr th {\n",
       "        vertical-align: top;\n",
       "    }\n",
       "\n",
       "    .dataframe thead th {\n",
       "        text-align: right;\n",
       "    }\n",
       "</style>\n",
       "<table border=\"1\" class=\"dataframe\">\n",
       "  <thead>\n",
       "    <tr style=\"text-align: right;\">\n",
       "      <th></th>\n",
       "      <th>time</th>\n",
       "      <th>hight</th>\n",
       "    </tr>\n",
       "  </thead>\n",
       "  <tbody>\n",
       "    <tr>\n",
       "      <th>694</th>\n",
       "      <td>0.148585</td>\n",
       "      <td>1.500153</td>\n",
       "    </tr>\n",
       "    <tr>\n",
       "      <th>695</th>\n",
       "      <td>0.148655</td>\n",
       "      <td>1.500318</td>\n",
       "    </tr>\n",
       "    <tr>\n",
       "      <th>696</th>\n",
       "      <td>0.148725</td>\n",
       "      <td>1.500484</td>\n",
       "    </tr>\n",
       "    <tr>\n",
       "      <th>697</th>\n",
       "      <td>0.148795</td>\n",
       "      <td>1.500650</td>\n",
       "    </tr>\n",
       "    <tr>\n",
       "      <th>698</th>\n",
       "      <td>0.148865</td>\n",
       "      <td>1.500816</td>\n",
       "    </tr>\n",
       "    <tr>\n",
       "      <th>...</th>\n",
       "      <td>...</td>\n",
       "      <td>...</td>\n",
       "    </tr>\n",
       "    <tr>\n",
       "      <th>7925</th>\n",
       "      <td>0.654805</td>\n",
       "      <td>1.500811</td>\n",
       "    </tr>\n",
       "    <tr>\n",
       "      <th>7926</th>\n",
       "      <td>0.654875</td>\n",
       "      <td>1.500645</td>\n",
       "    </tr>\n",
       "    <tr>\n",
       "      <th>7927</th>\n",
       "      <td>0.654945</td>\n",
       "      <td>1.500480</td>\n",
       "    </tr>\n",
       "    <tr>\n",
       "      <th>7928</th>\n",
       "      <td>0.655016</td>\n",
       "      <td>1.500314</td>\n",
       "    </tr>\n",
       "    <tr>\n",
       "      <th>7929</th>\n",
       "      <td>0.655086</td>\n",
       "      <td>1.500148</td>\n",
       "    </tr>\n",
       "  </tbody>\n",
       "</table>\n",
       "<p>7236 rows × 2 columns</p>\n",
       "</div>"
      ],
      "text/plain": [
       "          time     hight\n",
       "694   0.148585  1.500153\n",
       "695   0.148655  1.500318\n",
       "696   0.148725  1.500484\n",
       "697   0.148795  1.500650\n",
       "698   0.148865  1.500816\n",
       "...        ...       ...\n",
       "7925  0.654805  1.500811\n",
       "7926  0.654875  1.500645\n",
       "7927  0.654945  1.500480\n",
       "7928  0.655016  1.500314\n",
       "7929  0.655086  1.500148\n",
       "\n",
       "[7236 rows x 2 columns]"
      ]
     },
     "execution_count": 52,
     "metadata": {},
     "output_type": "execute_result"
    }
   ],
   "source": [
    "df[df[\"hight\"]>1.5]"
   ]
  },
  {
   "cell_type": "markdown",
   "id": "4fe568b8",
   "metadata": {},
   "source": [
    "###### The height of the ball is at least 1.5 meters between  0.148585 sec  and  0.655086 sec"
   ]
  },
  {
   "cell_type": "markdown",
   "id": "95990a1a",
   "metadata": {},
   "source": [
    "."
   ]
  },
  {
   "cell_type": "markdown",
   "id": "b72cdfd3",
   "metadata": {},
   "source": [
    "##  <font color=brown>  3. Develop a model for estimating heating oil used for a single-family home in the month of January based on average temperature and amount of insulation in inches.  (m </font>)"
   ]
  },
  {
   "cell_type": "code",
   "execution_count": 53,
   "id": "f1790d66",
   "metadata": {},
   "outputs": [],
   "source": [
    "#Oil Temp F Insulation\n",
    "Oil=        [275, 360, 160,40 ,90, 230,370,300,  230, 120,30,200,440,323,50]\n",
    "Temp=       [40,  27,  40, 73, 65, 35, 10  ,9,   24,  65, 66, 41, 22, 40, 60]\n",
    "Insulation= [4,   4,   10 ,6  ,7,  40 ,6   ,10 , 10 , 4 ,10 ,6 , 4 ,4 ,10]"
   ]
  },
  {
   "cell_type": "markdown",
   "id": "0842c714",
   "metadata": {},
   "source": [
    "#### a) Fit linear, quadratic functions to the data. By comparing the values of 2 R , determine the function that best fits the data. \n",
    "#### b) In all your answers in each model, write down the equations of your solutions (after  calculating its parameters).\n",
    "#### c) Then use the regression models for the functions in b to predict the needed oil if the  temperature is 10 Fahrenheit and the insulation is 5 attic insulations inches.\n",
    "#### d) What is your recommendation for the company?\n",
    "#### e) You may review the data and remove what is outside the reasonable range (outlier),  then recalculate the results and compare"
   ]
  },
  {
   "cell_type": "code",
   "execution_count": 54,
   "id": "36b1f58a",
   "metadata": {
    "scrolled": false
   },
   "outputs": [
    {
     "data": {
      "text/html": [
       "<div>\n",
       "<style scoped>\n",
       "    .dataframe tbody tr th:only-of-type {\n",
       "        vertical-align: middle;\n",
       "    }\n",
       "\n",
       "    .dataframe tbody tr th {\n",
       "        vertical-align: top;\n",
       "    }\n",
       "\n",
       "    .dataframe thead th {\n",
       "        text-align: right;\n",
       "    }\n",
       "</style>\n",
       "<table border=\"1\" class=\"dataframe\">\n",
       "  <thead>\n",
       "    <tr style=\"text-align: right;\">\n",
       "      <th></th>\n",
       "      <th>Oil</th>\n",
       "      <th>Temp</th>\n",
       "      <th>Insulation</th>\n",
       "    </tr>\n",
       "  </thead>\n",
       "  <tbody>\n",
       "    <tr>\n",
       "      <th>0</th>\n",
       "      <td>275</td>\n",
       "      <td>40</td>\n",
       "      <td>4</td>\n",
       "    </tr>\n",
       "    <tr>\n",
       "      <th>1</th>\n",
       "      <td>360</td>\n",
       "      <td>27</td>\n",
       "      <td>4</td>\n",
       "    </tr>\n",
       "    <tr>\n",
       "      <th>2</th>\n",
       "      <td>160</td>\n",
       "      <td>40</td>\n",
       "      <td>10</td>\n",
       "    </tr>\n",
       "    <tr>\n",
       "      <th>3</th>\n",
       "      <td>40</td>\n",
       "      <td>73</td>\n",
       "      <td>6</td>\n",
       "    </tr>\n",
       "    <tr>\n",
       "      <th>4</th>\n",
       "      <td>90</td>\n",
       "      <td>65</td>\n",
       "      <td>7</td>\n",
       "    </tr>\n",
       "    <tr>\n",
       "      <th>5</th>\n",
       "      <td>230</td>\n",
       "      <td>35</td>\n",
       "      <td>40</td>\n",
       "    </tr>\n",
       "    <tr>\n",
       "      <th>6</th>\n",
       "      <td>370</td>\n",
       "      <td>10</td>\n",
       "      <td>6</td>\n",
       "    </tr>\n",
       "    <tr>\n",
       "      <th>7</th>\n",
       "      <td>300</td>\n",
       "      <td>9</td>\n",
       "      <td>10</td>\n",
       "    </tr>\n",
       "    <tr>\n",
       "      <th>8</th>\n",
       "      <td>230</td>\n",
       "      <td>24</td>\n",
       "      <td>10</td>\n",
       "    </tr>\n",
       "    <tr>\n",
       "      <th>9</th>\n",
       "      <td>120</td>\n",
       "      <td>65</td>\n",
       "      <td>4</td>\n",
       "    </tr>\n",
       "    <tr>\n",
       "      <th>10</th>\n",
       "      <td>30</td>\n",
       "      <td>66</td>\n",
       "      <td>10</td>\n",
       "    </tr>\n",
       "    <tr>\n",
       "      <th>11</th>\n",
       "      <td>200</td>\n",
       "      <td>41</td>\n",
       "      <td>6</td>\n",
       "    </tr>\n",
       "    <tr>\n",
       "      <th>12</th>\n",
       "      <td>440</td>\n",
       "      <td>22</td>\n",
       "      <td>4</td>\n",
       "    </tr>\n",
       "    <tr>\n",
       "      <th>13</th>\n",
       "      <td>323</td>\n",
       "      <td>40</td>\n",
       "      <td>4</td>\n",
       "    </tr>\n",
       "    <tr>\n",
       "      <th>14</th>\n",
       "      <td>50</td>\n",
       "      <td>60</td>\n",
       "      <td>10</td>\n",
       "    </tr>\n",
       "  </tbody>\n",
       "</table>\n",
       "</div>"
      ],
      "text/plain": [
       "    Oil  Temp  Insulation\n",
       "0   275    40           4\n",
       "1   360    27           4\n",
       "2   160    40          10\n",
       "3    40    73           6\n",
       "4    90    65           7\n",
       "5   230    35          40\n",
       "6   370    10           6\n",
       "7   300     9          10\n",
       "8   230    24          10\n",
       "9   120    65           4\n",
       "10   30    66          10\n",
       "11  200    41           6\n",
       "12  440    22           4\n",
       "13  323    40           4\n",
       "14   50    60          10"
      ]
     },
     "execution_count": 54,
     "metadata": {},
     "output_type": "execute_result"
    }
   ],
   "source": [
    "df=pd.DataFrame([Oil,Temp,Insulation ]).T\n",
    "df.columns=[\"Oil\" ,\"Temp\" ,\"Insulation\"]\n",
    "df"
   ]
  },
  {
   "cell_type": "markdown",
   "id": "eed4c8de",
   "metadata": {},
   "source": [
    "### I.Fit linear"
   ]
  },
  {
   "cell_type": "code",
   "execution_count": 55,
   "id": "2638ac1c",
   "metadata": {},
   "outputs": [
    {
     "name": "stdout",
     "output_type": "stream",
     "text": [
      "linear model coeff (w): [-5.53510476 -2.44260222]\n",
      "linear model intercept (b):464.194062476011\n",
      "R-squared score (training): 0.781\n"
     ]
    }
   ],
   "source": [
    "from sklearn.linear_model import LinearRegression\n",
    "X = df[['Temp', 'Insulation']]\n",
    "y = df['Oil']\n",
    "linreg = LinearRegression().fit(X,y)\n",
    "print('linear model coeff (w): {}'\n",
    ".format(linreg.coef_))\n",
    "print('linear model intercept (b):'+ str(linreg.intercept_))# {:.3f}\n",
    "print('R-squared score (training): {:.3f}'\n",
    ".format(linreg.score(X , y)))"
   ]
  },
  {
   "cell_type": "code",
   "execution_count": 56,
   "id": "0fe94964",
   "metadata": {},
   "outputs": [
    {
     "name": "stdout",
     "output_type": "stream",
     "text": [
      "The needed oil if the temperature is 10 Fahrenheit and the insulation is 5 attic insulations inches : 396.63000377600997\n"
     ]
    }
   ],
   "source": [
    "temp=10\n",
    "insulation= 5\n",
    "prediction= -5.53510476 *temp -2.44260222 *insulation + 464.19406247601\n",
    "print(\"The needed oil if the temperature is 10 Fahrenheit and the insulation is 5 attic insulations inches : \"+str(prediction))"
   ]
  },
  {
   "cell_type": "markdown",
   "id": "ff60e379",
   "metadata": {},
   "source": [
    "#### equations: y = -5.53510476 Xtemp -2.44260222 Xinsulation + 464.19406247601\n",
    "#### R-squared score (training):  0.781"
   ]
  },
  {
   "cell_type": "markdown",
   "id": "3a466516",
   "metadata": {},
   "source": [
    "### II.Fit quadratic  "
   ]
  },
  {
   "cell_type": "code",
   "execution_count": 57,
   "id": "8a77c077",
   "metadata": {},
   "outputs": [
    {
     "name": "stdout",
     "output_type": "stream",
     "text": [
      "684.1703286034636 [-6.32842817e+00 -4.34276456e+01 -1.20050910e-02  2.65202838e-01\n",
      "  7.17627769e-01]\n",
      "R-squared score (training): 0.976\n"
     ]
    }
   ],
   "source": [
    "from sklearn.preprocessing import PolynomialFeatures\n",
    "\n",
    "poly = PolynomialFeatures(degree=2, include_bias=False)\n",
    "\n",
    "poly_features = poly.fit_transform(X)\n",
    "\n",
    "poly_reg_model = LinearRegression()\n",
    "poly_reg_model.fit(poly_features, y)\n",
    "\n",
    "print(poly_reg_model.intercept_, poly_reg_model.coef_)\n",
    "print('R-squared score (training): {:.3f}'\n",
    ".format(poly_reg_model.score(poly_features,  y)))"
   ]
  },
  {
   "cell_type": "markdown",
   "id": "83455d12",
   "metadata": {},
   "source": [
    "#### equations:Oil = 684.170 - 6.328Temp - 43.428Insulation - 0.012Temp^2 + 0.265Insulation^2 + 0.718Temp*Insulation\n",
    "#### R-squared score (training):  0.976"
   ]
  },
  {
   "cell_type": "code",
   "execution_count": 58,
   "id": "40138e37",
   "metadata": {},
   "outputs": [
    {
     "name": "stdout",
     "output_type": "stream",
     "text": [
      "The needed oil if the temperature is 10 Fahrenheit and the insulation is 5 attic insulations inches : 445.075\n"
     ]
    }
   ],
   "source": [
    "Temp=10\n",
    "Insulation= 5\n",
    "prediction= 684.170 - 6.328*Temp - 43.428*Insulation - 0.012*Temp**2 + 0.265*Insulation**2 + 0.718*Temp*Insulation\n",
    "print(\"The needed oil if the temperature is 10 Fahrenheit and the insulation is 5 attic insulations inches : \"+str(prediction))"
   ]
  },
  {
   "cell_type": "markdown",
   "id": "c5e004cb",
   "metadata": {},
   "source": [
    "### III.Fit cubic"
   ]
  },
  {
   "cell_type": "code",
   "execution_count": 59,
   "id": "987a6b99",
   "metadata": {},
   "outputs": [
    {
     "name": "stdout",
     "output_type": "stream",
     "text": [
      "1470.1152279367047 [-2.73458570e+01 -2.65376323e+02  1.98987712e-01  4.14727062e+00\n",
      "  1.71076197e+01 -1.25619042e-03 -6.59179089e-03 -2.27331908e-01\n",
      " -1.55978836e-01]\n",
      "R-squared score (training): 0.990\n"
     ]
    }
   ],
   "source": [
    "from sklearn.preprocessing import PolynomialFeatures\n",
    "\n",
    "poly = PolynomialFeatures(degree=3, include_bias=False)\n",
    "\n",
    "poly_features = poly.fit_transform(X)\n",
    "\n",
    "poly_reg_model = LinearRegression()\n",
    "poly_reg_model.fit(poly_features, y)\n",
    "\n",
    "print(poly_reg_model.intercept_, poly_reg_model.coef_)\n",
    "print('R-squared score (training): {:.3f}'\n",
    ".format(poly_reg_model.score(poly_features,  y)))"
   ]
  },
  {
   "cell_type": "markdown",
   "id": "f7263f6e",
   "metadata": {},
   "source": [
    "#### equations:  \n",
    "##### Oil = 1470.115 - 27.346Temp - 265.376Insulation + 0.199Temp^2 + 4.147Insulation^2 + 17.108TempInsulation - 0.001Temp^3 - 0.007Insulation^3 - 0.227Temp^2Insulation - 0.156TempInsulation^2\n",
    "#### R-squared score (training): 0.990"
   ]
  },
  {
   "cell_type": "code",
   "execution_count": 60,
   "id": "76c83460",
   "metadata": {},
   "outputs": [
    {
     "name": "stdout",
     "output_type": "stream",
     "text": [
      "The needed oil if the temperature is 10 Fahrenheit and the insulation is 5 attic insulations inches : 694.3750000000002\n"
     ]
    }
   ],
   "source": [
    "Temp=10\n",
    "Insulation= 5\n",
    "prediction= 1470.115 - 27.346*Temp - 265.376*Insulation + 0.199*Temp**2 + 4.147*Insulation**2 + 17.108*Temp*Insulation - 0.001*Temp**3 - 0.007*Insulation**3 - 0.227*(Temp)**2*Insulation - 0.156*Temp*(Insulation)**2\n",
    "print(\"The needed oil if the temperature is 10 Fahrenheit and the insulation is 5 attic insulations inches : \"+str(prediction))"
   ]
  },
  {
   "cell_type": "markdown",
   "id": "ad1cd3a4",
   "metadata": {},
   "source": [
    "### <font color=red> Note: cubic is a littel  better than quadratic in terms of R-Squared  BUT has has much more prameters as well so in real life i would prefer to use the quadratic model    </font>"
   ]
  },
  {
   "cell_type": "markdown",
   "id": "47e8fc43",
   "metadata": {},
   "source": [
    "## find the outlier "
   ]
  },
  {
   "cell_type": "code",
   "execution_count": 61,
   "id": "17948f35",
   "metadata": {},
   "outputs": [
    {
     "data": {
      "image/png": "[encoded data removed]",
      "text/plain": [
       "<Figure size 640x480 with 1 Axes>"
      ]
     },
     "metadata": {},
     "output_type": "display_data"
    }
   ],
   "source": [
    "#Oil Temp F Insulation\n",
    "Oil=        [275, 360, 160,40 ,90, 230,370,300,  230, 120,30,200,440,323,50]\n",
    "Temp=       [40,  27,  40, 73, 65, 35, 10  ,9,   24,  65, 66, 41, 22, 40, 60]\n",
    "Insulation= [4,   4,   10 ,6  ,7,  40 ,6   ,10 , 10 , 4 ,10 ,6 , 4 ,4 ,10]\n",
    "plt.scatter(Temp,Oil )\n",
    "plt.xlabel(\"Temp\")\n",
    "plt.ylabel(\"Oil\")\n",
    "plt.show()"
   ]
  },
  {
   "cell_type": "code",
   "execution_count": 62,
   "id": "8933e702",
   "metadata": {},
   "outputs": [
    {
     "data": {
      "image/png": "[encoded data removed]",
      "text/plain": [
       "<Figure size 640x480 with 1 Axes>"
      ]
     },
     "metadata": {},
     "output_type": "display_data"
    }
   ],
   "source": [
    "plt.scatter(Insulation,Oil )\n",
    "plt.xlabel(\"Insulation\")\n",
    "plt.ylabel(\"Oil\")\n",
    "plt.show()"
   ]
  },
  {
   "cell_type": "markdown",
   "id": "7775af97",
   "metadata": {},
   "source": [
    "### Now let's remove it"
   ]
  },
  {
   "cell_type": "code",
   "execution_count": 63,
   "id": "33e79daf",
   "metadata": {},
   "outputs": [
    {
     "data": {
      "text/html": [
       "<div>\n",
       "<style scoped>\n",
       "    .dataframe tbody tr th:only-of-type {\n",
       "        vertical-align: middle;\n",
       "    }\n",
       "\n",
       "    .dataframe tbody tr th {\n",
       "        vertical-align: top;\n",
       "    }\n",
       "\n",
       "    .dataframe thead th {\n",
       "        text-align: right;\n",
       "    }\n",
       "</style>\n",
       "<table border=\"1\" class=\"dataframe\">\n",
       "  <thead>\n",
       "    <tr style=\"text-align: right;\">\n",
       "      <th></th>\n",
       "      <th>Oil</th>\n",
       "      <th>Temp</th>\n",
       "      <th>Insulation</th>\n",
       "    </tr>\n",
       "  </thead>\n",
       "  <tbody>\n",
       "    <tr>\n",
       "      <th>0</th>\n",
       "      <td>275</td>\n",
       "      <td>40</td>\n",
       "      <td>4</td>\n",
       "    </tr>\n",
       "    <tr>\n",
       "      <th>1</th>\n",
       "      <td>360</td>\n",
       "      <td>27</td>\n",
       "      <td>4</td>\n",
       "    </tr>\n",
       "    <tr>\n",
       "      <th>2</th>\n",
       "      <td>160</td>\n",
       "      <td>40</td>\n",
       "      <td>10</td>\n",
       "    </tr>\n",
       "    <tr>\n",
       "      <th>3</th>\n",
       "      <td>40</td>\n",
       "      <td>73</td>\n",
       "      <td>6</td>\n",
       "    </tr>\n",
       "    <tr>\n",
       "      <th>4</th>\n",
       "      <td>90</td>\n",
       "      <td>65</td>\n",
       "      <td>7</td>\n",
       "    </tr>\n",
       "    <tr>\n",
       "      <th>6</th>\n",
       "      <td>370</td>\n",
       "      <td>10</td>\n",
       "      <td>6</td>\n",
       "    </tr>\n",
       "    <tr>\n",
       "      <th>7</th>\n",
       "      <td>300</td>\n",
       "      <td>9</td>\n",
       "      <td>10</td>\n",
       "    </tr>\n",
       "    <tr>\n",
       "      <th>8</th>\n",
       "      <td>230</td>\n",
       "      <td>24</td>\n",
       "      <td>10</td>\n",
       "    </tr>\n",
       "    <tr>\n",
       "      <th>9</th>\n",
       "      <td>120</td>\n",
       "      <td>65</td>\n",
       "      <td>4</td>\n",
       "    </tr>\n",
       "    <tr>\n",
       "      <th>10</th>\n",
       "      <td>30</td>\n",
       "      <td>66</td>\n",
       "      <td>10</td>\n",
       "    </tr>\n",
       "    <tr>\n",
       "      <th>11</th>\n",
       "      <td>200</td>\n",
       "      <td>41</td>\n",
       "      <td>6</td>\n",
       "    </tr>\n",
       "    <tr>\n",
       "      <th>12</th>\n",
       "      <td>440</td>\n",
       "      <td>22</td>\n",
       "      <td>4</td>\n",
       "    </tr>\n",
       "    <tr>\n",
       "      <th>13</th>\n",
       "      <td>323</td>\n",
       "      <td>40</td>\n",
       "      <td>4</td>\n",
       "    </tr>\n",
       "    <tr>\n",
       "      <th>14</th>\n",
       "      <td>50</td>\n",
       "      <td>60</td>\n",
       "      <td>10</td>\n",
       "    </tr>\n",
       "  </tbody>\n",
       "</table>\n",
       "</div>"
      ],
      "text/plain": [
       "    Oil  Temp  Insulation\n",
       "0   275    40           4\n",
       "1   360    27           4\n",
       "2   160    40          10\n",
       "3    40    73           6\n",
       "4    90    65           7\n",
       "6   370    10           6\n",
       "7   300     9          10\n",
       "8   230    24          10\n",
       "9   120    65           4\n",
       "10   30    66          10\n",
       "11  200    41           6\n",
       "12  440    22           4\n",
       "13  323    40           4\n",
       "14   50    60          10"
      ]
     },
     "execution_count": 63,
     "metadata": {},
     "output_type": "execute_result"
    }
   ],
   "source": [
    "df = df.drop(5)\n",
    "df"
   ]
  },
  {
   "cell_type": "markdown",
   "id": "d51baebc",
   "metadata": {},
   "source": [
    "### I.Fit linear"
   ]
  },
  {
   "cell_type": "code",
   "execution_count": 64,
   "id": "ab163326",
   "metadata": {},
   "outputs": [
    {
     "name": "stdout",
     "output_type": "stream",
     "text": [
      "linear model coeff (w): [ -5.41828356 -23.0471598 ]\n",
      "linear model intercept (b):595.0658008177222\n",
      "R-squared score (training): 0.960\n"
     ]
    }
   ],
   "source": [
    "from sklearn.linear_model import LinearRegression\n",
    "X = df[['Temp', 'Insulation']]\n",
    "y = df['Oil']\n",
    "linreg = LinearRegression().fit(X,y)\n",
    "print('linear model coeff (w): {}'\n",
    ".format(linreg.coef_))\n",
    "print('linear model intercept (b):'+ str(linreg.intercept_))# {:.3f}\n",
    "print('R-squared score (training): {:.3f}'\n",
    ".format(linreg.score(X , y)))"
   ]
  },
  {
   "cell_type": "code",
   "execution_count": null,
   "id": "367414d1",
   "metadata": {},
   "outputs": [],
   "source": []
  },
  {
   "cell_type": "markdown",
   "id": "421d277b",
   "metadata": {},
   "source": [
    "#### y = -5.41828356 * Temp - 23.0471598 * Insulation + 595.0658008177222\n",
    "#### R-squared score (training): 0.960"
   ]
  },
  {
   "cell_type": "code",
   "execution_count": 65,
   "id": "5dca8503",
   "metadata": {},
   "outputs": [
    {
     "name": "stdout",
     "output_type": "stream",
     "text": [
      "The needed oil if the temperature is 10 Fahrenheit and the insulation is 5 attic insulations inches : 425.6471662177222\n"
     ]
    }
   ],
   "source": [
    "Temp=10\n",
    "Insulation= 5\n",
    "prediction= -5.41828356 * Temp - 23.0471598 * Insulation + 595.0658008177222\n",
    "print(\"The needed oil if the temperature is 10 Fahrenheit and the insulation is 5 attic insulations inches : \"+str(prediction))\n"
   ]
  },
  {
   "cell_type": "markdown",
   "id": "b3fabc8e",
   "metadata": {},
   "source": [
    "### II.Fit quadratic  "
   ]
  },
  {
   "cell_type": "code",
   "execution_count": 66,
   "id": "ac8ed622",
   "metadata": {},
   "outputs": [
    {
     "name": "stdout",
     "output_type": "stream",
     "text": [
      "803.6077450235023 [-7.13343742e+00 -7.85782131e+01 -1.98898646e-03  2.74096226e-01\n",
      "  3.15784314e+00]\n",
      "R-squared score (training): 0.980\n"
     ]
    }
   ],
   "source": [
    "from sklearn.preprocessing import PolynomialFeatures\n",
    "\n",
    "poly = PolynomialFeatures(degree=2, include_bias=False)\n",
    "\n",
    "poly_features = poly.fit_transform(X)\n",
    "\n",
    "poly_reg_model = LinearRegression()\n",
    "poly_reg_model.fit(poly_features, y)\n",
    "\n",
    "print(poly_reg_model.intercept_, poly_reg_model.coef_)\n",
    "print('R-squared score (training): {:.3f}'\n",
    ".format(poly_reg_model.score(poly_features,  y)))"
   ]
  },
  {
   "cell_type": "markdown",
   "id": "925b93bf",
   "metadata": {},
   "source": [
    "#### y = -7.13343742Temp - 78.5782131Insulation - 0.00198898646Temp^2 + 0.2740962265782131Insulation*00198898646Temp + 3.15784314Insulation^2 + 803.6077450235023\n",
    "#### R-squared score (training): 0.980"
   ]
  },
  {
   "cell_type": "code",
   "execution_count": 67,
   "id": "7c2d80d8",
   "metadata": {},
   "outputs": [
    {
     "name": "stdout",
     "output_type": "stream",
     "text": [
      "The needed oil if the temperature is 10 Fahrenheit and the insulation is 5 attic insulations inches : 431.83429647750233\n"
     ]
    }
   ],
   "source": [
    "Temp=10\n",
    "Insulation= 5\n",
    "prediction=-7.13343742*Temp - 78.5782131*Insulation - 0.00198898646*Temp**2 + 0.274096226*Insulation*Temp + 3.15784314*Insulation**2 + 803.6077450235023\n",
    "print(\"The needed oil if the temperature is 10 Fahrenheit and the insulation is 5 attic insulations inches : \"+str(prediction))\n"
   ]
  },
  {
   "cell_type": "markdown",
   "id": "d7fdcf0d",
   "metadata": {},
   "source": [
    "### III.Fit cubic"
   ]
  },
  {
   "cell_type": "code",
   "execution_count": 68,
   "id": "abaf4207",
   "metadata": {},
   "outputs": [
    {
     "name": "stdout",
     "output_type": "stream",
     "text": [
      "1884.0898942390745 [-1.97669881e+01 -5.25874127e+02  8.53543359e-02  3.02517185e+00\n",
      "  6.28563610e+01 -4.35737996e-04 -4.31287217e-03 -1.63184863e-01\n",
      " -2.56032711e+00]\n",
      "R-squared score (training): 0.990\n"
     ]
    }
   ],
   "source": [
    "from sklearn.preprocessing import PolynomialFeatures\n",
    "\n",
    "poly = PolynomialFeatures(degree=3, include_bias=False)\n",
    "\n",
    "poly_features = poly.fit_transform(X)\n",
    "\n",
    "poly_reg_model = LinearRegression()\n",
    "poly_reg_model.fit(poly_features, y)\n",
    "\n",
    "print(poly_reg_model.intercept_, poly_reg_model.coef_)\n",
    "print('R-squared score (training): {:.3f}'\n",
    ".format(poly_reg_model.score(poly_features,  y)))"
   ]
  },
  {
   "cell_type": "markdown",
   "id": "f979bcdd",
   "metadata": {},
   "source": [
    "#### y = -19.7669881x1 - 525.874127x2 + 0.0853543359x1^2 + 3.02517185x1x2 + 62.8563610x2^2 - 0.000435737996x1^3 - 0.00431287217x1^2x2 - 0.163184863x1x2^2 - 2.56032711x2^3 +1884.089894239074"
   ]
  },
  {
   "cell_type": "code",
   "execution_count": 69,
   "id": "f13f0b84",
   "metadata": {},
   "outputs": [
    {
     "name": "stdout",
     "output_type": "stream",
     "text": [
      "The needed oil if the temperature is 10 Fahrenheit and the insulation is 5 attic insulations inches : 424.8231507480739\n"
     ]
    }
   ],
   "source": [
    "x1=10\n",
    "x2= 5\n",
    "y = -19.7669881*x1 - 525.874127*x2 + 0.0853543359*x1**2 + 3.02517185*x1*x2 + 62.8563610*x2**2 - 0.000435737996*x1**3 - 0.00431287217*(x1**2)*x2 - 0.163184863*x1*x2**2 - 2.56032711*x2**3 +1884.089894239074\n",
    "print(\"The needed oil if the temperature is 10 Fahrenheit and the insulation is 5 attic insulations inches : \"+str(y))\n"
   ]
  },
  {
   "cell_type": "markdown",
   "id": "71b94253",
   "metadata": {},
   "source": [
    "#### d) What is your recommendation for the company?"
   ]
  },
  {
   "cell_type": "markdown",
   "id": "1982885b",
   "metadata": {},
   "source": [
    "#### After  a scientific study on the relationship between insulation and oil usage for heating homes. Our findings indicate a clear quadratic relationship between these two factors, with higher insulation levels leading to a significant reduction in oil usage.\n",
    "#### we urge you to consider the importance of insulation when delivering heating oil to your customers. Encouraging and providing information on insulation can make a significant difference in reducing oil usage and promoting energy efficiency."
   ]
  },
  {
   "cell_type": "markdown",
   "id": "ea0ae5e8",
   "metadata": {},
   "source": [
    "# <font color=red>  Part 2 </font>"
   ]
  },
  {
   "cell_type": "markdown",
   "id": "b286732e",
   "metadata": {},
   "source": [
    "#### Use the ReducedMNIST which is a reduced version of the MNIST data set.\n",
    "#### • ReducedMNIST training: 1000 examples for each digit.\n"
   ]
  },
  {
   "cell_type": "code",
   "execution_count": 70,
   "id": "f5454cbf",
   "metadata": {},
   "outputs": [
    {
     "name": "stderr",
     "output_type": "stream",
     "text": [
      "100%|██████████| 1000/1000 [00:00<00:00, 4257.36it/s]\n",
      "100%|██████████| 1000/1000 [00:00<00:00, 4653.66it/s]\n",
      "100%|██████████| 1000/1000 [00:00<00:00, 4513.32it/s]\n",
      "100%|██████████| 1000/1000 [00:00<00:00, 4227.74it/s]\n",
      "100%|██████████| 1000/1000 [00:00<00:00, 4510.14it/s]\n",
      "100%|██████████| 1000/1000 [00:00<00:00, 4297.95it/s]\n",
      "100%|██████████| 1000/1000 [00:00<00:00, 4556.75it/s]\n",
      "100%|██████████| 1000/1000 [00:00<00:00, 4518.99it/s]\n",
      "100%|██████████| 1000/1000 [00:00<00:00, 4550.49it/s]\n",
      "100%|██████████| 1000/1000 [00:00<00:00, 4640.74it/s]"
     ]
    },
    {
     "name": "stdout",
     "output_type": "stream",
     "text": [
      "10000\n"
     ]
    },
    {
     "name": "stderr",
     "output_type": "stream",
     "text": [
      "\n"
     ]
    }
   ],
   "source": [
    "import numpy as np\n",
    "import matplotlib.pyplot as plt\n",
    "import os\n",
    "import cv2\n",
    "from tqdm import tqdm\n",
    "DATADIR = \"C:/Users/Ahmed/AnacondaWorkSpace/drmohsen1/Reduced MNIST Data/Reduced Trainging data/\"\n",
    "\n",
    "CATEGORIES = [\"0\",\"1\",\"2\",\"3\",\"4\",\"5\",\"6\",\"7\",\"8\",\"9\"]\n",
    "training_data = []\n",
    "Labels = []\n",
    "def create_training_data():\n",
    "    i=0\n",
    "    for category in CATEGORIES:  # do dogs and cats\n",
    "\n",
    "        path = os.path.join(DATADIR,category)  # create path to dogs and cats\n",
    "\n",
    "        for img in tqdm(os.listdir(path)):  # iterate over each image per dogs and cats\n",
    "            try:\n",
    "                img_array = cv2.imread(os.path.join(path,img), cv2.IMREAD_GRAYSCALE)  # convert to array\n",
    "                training_data.append(img_array)  # add this to our training_data\n",
    "                Labels.append(i)\n",
    "                \n",
    "            except Exception as e:  # in the interest in keeping the output clean...\n",
    "                pass\n",
    "        i=i+1\n",
    "\n",
    "create_training_data()\n",
    "#\n",
    "print(len(training_data))"
   ]
  },
  {
   "cell_type": "code",
   "execution_count": 71,
   "id": "cab4cdc7",
   "metadata": {},
   "outputs": [
    {
     "name": "stdout",
     "output_type": "stream",
     "text": [
      "(28, 28)\n"
     ]
    },
    {
     "data": {
      "image/png": "[encoded data removed]",
      "text/plain": [
       "<Figure size 640x480 with 1 Axes>"
      ]
     },
     "metadata": {},
     "output_type": "display_data"
    }
   ],
   "source": [
    "print(training_data[6500].shape)\n",
    "plt.imshow(training_data[6500])\n",
    "plt.show()"
   ]
  },
  {
   "cell_type": "markdown",
   "id": "30002f6b",
   "metadata": {},
   "source": [
    "#### • ReducedMNIST test: 200 examples for each digit."
   ]
  },
  {
   "cell_type": "code",
   "execution_count": 72,
   "id": "63735464",
   "metadata": {},
   "outputs": [
    {
     "name": "stderr",
     "output_type": "stream",
     "text": [
      "100%|██████████| 200/200 [00:00<00:00, 3258.15it/s]\n",
      "100%|██████████| 200/200 [00:00<00:00, 4254.44it/s]\n",
      "100%|██████████| 200/200 [00:00<00:00, 4576.01it/s]\n",
      "100%|██████████| 200/200 [00:00<00:00, 4482.96it/s]\n",
      "100%|██████████| 200/200 [00:00<00:00, 4542.17it/s]\n",
      "100%|██████████| 200/200 [00:00<00:00, 4569.71it/s]\n",
      "100%|██████████| 200/200 [00:00<00:00, 4701.19it/s]\n",
      "100%|██████████| 200/200 [00:00<00:00, 4353.62it/s]\n",
      "100%|██████████| 200/200 [00:00<00:00, 4373.69it/s]\n",
      "100%|██████████| 200/200 [00:00<00:00, 4646.09it/s]"
     ]
    },
    {
     "name": "stdout",
     "output_type": "stream",
     "text": [
      "2000\n"
     ]
    },
    {
     "name": "stderr",
     "output_type": "stream",
     "text": [
      "\n"
     ]
    }
   ],
   "source": [
    "import numpy as np\n",
    "import matplotlib.pyplot as plt\n",
    "import os\n",
    "import cv2\n",
    "from tqdm import tqdm\n",
    "DATADIR = \"C:/Users/Ahmed/AnacondaWorkSpace/drmohsen1/Reduced MNIST Data/Reduced Testing data/\"\n",
    "test_data=[]\n",
    "CATEGORIES = [\"0\",\"1\",\"2\",\"3\",\"4\",\"5\",\"6\",\"7\",\"8\",\"9\"]\n",
    "\n",
    "Labels_test = []\n",
    "def create_training_data():\n",
    "    i=0\n",
    "    for category in CATEGORIES:  \n",
    "\n",
    "        path = os.path.join(DATADIR,category) \n",
    "        \n",
    "\n",
    "        for img in tqdm(os.listdir(path)):  \n",
    "            try:\n",
    "                img_array = cv2.imread(os.path.join(path,img), cv2.IMREAD_GRAYSCALE)  # convert to array\n",
    "                test_data.append(img_array)  # add this to our training_data\n",
    "                Labels_test.append(i)\n",
    "                \n",
    "            except Exception as e:  # in the interest in keeping the output clean...\n",
    "                pass\n",
    "        i=i+1\n",
    "\n",
    "create_training_data()\n",
    "#\n",
    "print(len(test_data))"
   ]
  },
  {
   "cell_type": "markdown",
   "id": "3bbd36c7",
   "metadata": {},
   "source": [
    "### a. DCT features (200 dimensions)"
   ]
  },
  {
   "cell_type": "code",
   "execution_count": 73,
   "id": "67f18227",
   "metadata": {
    "scrolled": true
   },
   "outputs": [],
   "source": [
    "import cv2\n",
    "import numpy as np\n",
    "training_dct=[]\n",
    "for image in training_data:\n",
    "    # Load an image in grayscale\n",
    "    dct = cv2.dct(np.float32(image))\n",
    "    dct = dct.reshape(-1,1)\n",
    "    # Compute the 2D DCT of the image\n",
    "    dct_features=dct.tolist()[:200]\n",
    "    training_dct.append(dct_features)\n",
    "training_dct=np.squeeze(np.array(training_dct))"
   ]
  },
  {
   "cell_type": "code",
   "execution_count": 74,
   "id": "cf7d242b",
   "metadata": {},
   "outputs": [
    {
     "data": {
      "text/plain": [
       "(10000, 200)"
      ]
     },
     "execution_count": 74,
     "metadata": {},
     "output_type": "execute_result"
    }
   ],
   "source": [
    "training_dct.shape"
   ]
  },
  {
   "cell_type": "code",
   "execution_count": 75,
   "id": "fa5ca2e6",
   "metadata": {},
   "outputs": [],
   "source": [
    "import cv2\n",
    "import numpy as np \n",
    "test_dct=[]\n",
    "for image in test_data:\n",
    "    # Load an image in grayscale\n",
    "    dct = cv2.dct(np.float32(image))\n",
    "    dct = dct.reshape(-1,1)\n",
    "    # Compute the 2D DCT of the image\n",
    "    dct_features=dct.tolist()[:200]\n",
    "    test_dct.append(dct_features)\n",
    "test_dct=np.squeeze(np.array(test_dct))"
   ]
  },
  {
   "cell_type": "code",
   "execution_count": 76,
   "id": "20d7f839",
   "metadata": {},
   "outputs": [
    {
     "data": {
      "text/plain": [
       "(2000, 200)"
      ]
     },
     "execution_count": 76,
     "metadata": {},
     "output_type": "execute_result"
    }
   ],
   "source": [
    "test_dct.shape"
   ]
  },
  {
   "cell_type": "markdown",
   "id": "5bd69034",
   "metadata": {},
   "source": [
    "### b. PCA (use several dimensions so that the total variance is at least 95% of  the total variance when using all the 784 dimensions). "
   ]
  },
  {
   "cell_type": "code",
   "execution_count": 77,
   "id": "dab4528e",
   "metadata": {},
   "outputs": [
    {
     "name": "stdout",
     "output_type": "stream",
     "text": [
      "\n",
      "6200.888075183782\n",
      "6525.491895016194\n"
     ]
    },
    {
     "data": {
      "text/plain": [
       "(10000, 745)"
      ]
     },
     "execution_count": 77,
     "metadata": {},
     "output_type": "execute_result"
    }
   ],
   "source": [
    "import numpy as np\n",
    "import cv2\n",
    "import os\n",
    "from sklearn.decomposition import PCA\n",
    "\n",
    "#Import required modules\n",
    "from sklearn.decomposition import PCA\n",
    "\n",
    "X = np.array(training_data)\n",
    "print()\n",
    "# Flatten each image into a 1D array\n",
    "X_flat = X.reshape(X.shape[0], -1)\n",
    "pca = PCA(784) # we need 2 principal components.  \n",
    "converted_data1 = pca.fit_transform(X_flat)\n",
    "pca = PCA(745) # we need 2 principal components.  784\n",
    "converted_data2 = pca.fit_transform(X_flat)\n",
    "print(np.var(converted_data1))\n",
    "print(np.var(converted_data2))\n",
    "#limt:converted_data2<6526.3\n",
    "converted_data2.shape"
   ]
  },
  {
   "cell_type": "code",
   "execution_count": 13,
   "id": "c1c4c7fc",
   "metadata": {},
   "outputs": [
    {
     "data": {
      "text/plain": [
       "dtype('float64')"
      ]
     },
     "execution_count": 13,
     "metadata": {},
     "output_type": "execute_result"
    }
   ],
   "source": [
    "converted_data2.dtype"
   ]
  },
  {
   "cell_type": "code",
   "execution_count": null,
   "id": "0d4e2928",
   "metadata": {},
   "outputs": [],
   "source": []
  },
  {
   "cell_type": "code",
   "execution_count": 78,
   "id": "cc52009e",
   "metadata": {},
   "outputs": [
    {
     "name": "stdout",
     "output_type": "stream",
     "text": [
      "\n",
      "6217.5096134595005\n",
      "6525.491895016194\n"
     ]
    },
    {
     "data": {
      "text/plain": [
       "(2000, 745)"
      ]
     },
     "execution_count": 78,
     "metadata": {},
     "output_type": "execute_result"
    }
   ],
   "source": [
    "import numpy as np\n",
    "import cv2\n",
    "import os\n",
    "from sklearn.decomposition import PCA\n",
    "\n",
    "#Import required modules\n",
    "from sklearn.decomposition import PCA\n",
    "\n",
    "X = np.array(test_data)\n",
    "print()\n",
    "# Flatten each image into a 1D array\n",
    "X_flat = X.reshape(X.shape[0], -1)\n",
    "pca = PCA(784) # we need 2 principal components.  \n",
    "converted_data1 = pca.fit_transform(X_flat)\n",
    "pca = PCA(745) # we need 2 principal components.  784\n",
    "converted_data2_test = pca.fit_transform(X_flat)\n",
    "print(np.var(converted_data1))\n",
    "print(np.var(converted_data2))\n",
    "#limt:converted_data2<6526.3\n",
    "converted_data2_test.shape"
   ]
  },
  {
   "cell_type": "markdown",
   "id": "178f9247",
   "metadata": {},
   "source": [
    "### c. A feature of your creation"
   ]
  },
  {
   "cell_type": "code",
   "execution_count": 79,
   "id": "ae847b0e",
   "metadata": {},
   "outputs": [
    {
     "name": "stderr",
     "output_type": "stream",
     "text": [
      "C:\\Users\\Ahmed\\AppData\\Local\\Temp\\ipykernel_9860\\2530390956.py:17: RuntimeWarning: invalid value encountered in true_divide\n",
      "  x_center, y_center = np.argwhere(filter == 1).sum(0) / np.count_nonzero(filter)\n"
     ]
    }
   ],
   "source": [
    "import cv2\n",
    "import numpy as np\n",
    "\n",
    "\n",
    "\n",
    "\n",
    "# Convert the image to grayscale\n",
    "\n",
    "\n",
    "\n",
    "def calculate_centriods(photo, r, c):\n",
    "    centroids = []     \n",
    "    binary_image = 1 * (127 < photo) & (photo < 255)\n",
    "    for row in range(0, photo.shape[0] - r, r):\n",
    "        for col in range(0, photo.shape[1] - c, c):\n",
    "            filter = binary_image[row:row + r, col:col + c]\n",
    "            x_center, y_center = np.argwhere(filter == 1).sum(0) / np.count_nonzero(filter)\n",
    "            centroids.append(x_center)\n",
    "            centroids.append(y_center)\n",
    "\n",
    "    centroids = np.nan_to_num(centroids)\n",
    "    return centroids\n",
    "\n",
    "\n",
    "\n",
    "training_MYfeature=[]\n",
    "for img in training_data:\n",
    "    centroid = calculate_centriods(img,4,4)\n",
    "    training_MYfeature.append(centroid)\n",
    "\n",
    "testing_MYfeature=[]\n",
    "for img in test_data:\n",
    "    centroid = calculate_centriods(img,4,4)\n",
    "    testing_MYfeature.append(centroid)\n"
   ]
  },
  {
   "cell_type": "code",
   "execution_count": 80,
   "id": "ba3648da",
   "metadata": {},
   "outputs": [],
   "source": [
    "training_MYfeature=np.array(training_MYfeature)\n",
    "testing_MYfeature=np.array(testing_MYfeature)"
   ]
  },
  {
   "cell_type": "markdown",
   "id": "6e6aea63",
   "metadata": {},
   "source": [
    "## a. K-means for each class. Try 1, 4, 16, and 32 clusters for each class."
   ]
  },
  {
   "cell_type": "code",
   "execution_count": 81,
   "id": "eea0f837",
   "metadata": {},
   "outputs": [],
   "source": [
    "from sklearn.cluster import KMeans\n",
    "import numpy as np\n"
   ]
  },
  {
   "cell_type": "code",
   "execution_count": 82,
   "id": "8cb288d6",
   "metadata": {},
   "outputs": [],
   "source": [
    "#X=converted_data2\n",
    "#X_test=converted_data2_test\n",
    "\n",
    "X=training_dct\n",
    "X_test=test_dct\n",
    "\n",
    "#X=training_MYfeature\n",
    "#X_test=testing_MYfeature\n",
    "\n",
    "y=Labels"
   ]
  },
  {
   "cell_type": "code",
   "execution_count": 83,
   "id": "6b9c0acc",
   "metadata": {},
   "outputs": [
    {
     "name": "stderr",
     "output_type": "stream",
     "text": [
      "C:\\ProgramData\\Anaconda3\\lib\\site-packages\\sklearn\\cluster\\_kmeans.py:1036: UserWarning: KMeans is known to have a memory leak on Windows with MKL, when there are less chunks than available threads. You can avoid it by setting the environment variable OMP_NUM_THREADS=4.\n",
      "  warnings.warn(\n",
      "C:\\ProgramData\\Anaconda3\\lib\\site-packages\\sklearn\\cluster\\_kmeans.py:1036: UserWarning: KMeans is known to have a memory leak on Windows with MKL, when there are less chunks than available threads. You can avoid it by setting the environment variable OMP_NUM_THREADS=4.\n",
      "  warnings.warn(\n",
      "C:\\ProgramData\\Anaconda3\\lib\\site-packages\\sklearn\\cluster\\_kmeans.py:1036: UserWarning: KMeans is known to have a memory leak on Windows with MKL, when there are less chunks than available threads. You can avoid it by setting the environment variable OMP_NUM_THREADS=4.\n",
      "  warnings.warn(\n",
      "C:\\ProgramData\\Anaconda3\\lib\\site-packages\\sklearn\\cluster\\_kmeans.py:1036: UserWarning: KMeans is known to have a memory leak on Windows with MKL, when there are less chunks than available threads. You can avoid it by setting the environment variable OMP_NUM_THREADS=4.\n",
      "  warnings.warn(\n",
      "C:\\ProgramData\\Anaconda3\\lib\\site-packages\\sklearn\\cluster\\_kmeans.py:1036: UserWarning: KMeans is known to have a memory leak on Windows with MKL, when there are less chunks than available threads. You can avoid it by setting the environment variable OMP_NUM_THREADS=4.\n",
      "  warnings.warn(\n",
      "C:\\ProgramData\\Anaconda3\\lib\\site-packages\\sklearn\\cluster\\_kmeans.py:1036: UserWarning: KMeans is known to have a memory leak on Windows with MKL, when there are less chunks than available threads. You can avoid it by setting the environment variable OMP_NUM_THREADS=4.\n",
      "  warnings.warn(\n",
      "C:\\ProgramData\\Anaconda3\\lib\\site-packages\\sklearn\\cluster\\_kmeans.py:1036: UserWarning: KMeans is known to have a memory leak on Windows with MKL, when there are less chunks than available threads. You can avoid it by setting the environment variable OMP_NUM_THREADS=4.\n",
      "  warnings.warn(\n",
      "C:\\ProgramData\\Anaconda3\\lib\\site-packages\\sklearn\\cluster\\_kmeans.py:1036: UserWarning: KMeans is known to have a memory leak on Windows with MKL, when there are less chunks than available threads. You can avoid it by setting the environment variable OMP_NUM_THREADS=4.\n",
      "  warnings.warn(\n",
      "C:\\ProgramData\\Anaconda3\\lib\\site-packages\\sklearn\\cluster\\_kmeans.py:1036: UserWarning: KMeans is known to have a memory leak on Windows with MKL, when there are less chunks than available threads. You can avoid it by setting the environment variable OMP_NUM_THREADS=4.\n",
      "  warnings.warn(\n",
      "C:\\ProgramData\\Anaconda3\\lib\\site-packages\\sklearn\\cluster\\_kmeans.py:1036: UserWarning: KMeans is known to have a memory leak on Windows with MKL, when there are less chunks than available threads. You can avoid it by setting the environment variable OMP_NUM_THREADS=4.\n",
      "  warnings.warn(\n"
     ]
    }
   ],
   "source": [
    "# Define the number of clusters for each class\n",
    "num_clusters = 1\n",
    "\n",
    "# Initialize an empty dictionary to store KMeans objects for each class\n",
    "kmeans_dict = {}\n",
    "\n",
    "# Loop over each class\n",
    "for class_label in np.unique(y):\n",
    "    # Extract the observations belonging to the current class\n",
    "    X_class = X[y == class_label]\n",
    "    \n",
    "    # Initialize a KMeans object with the desired number of clusters\n",
    "    kmeans = KMeans(n_clusters=num_clusters)\n",
    "    \n",
    "    # Fit the KMeans object to the data for the current class\n",
    "    kmeans.fit(X_class)\n",
    "    \n",
    "    # Store the KMeans object in the dictionary\n",
    "    kmeans_dict[class_label] = kmeans\n"
   ]
  },
  {
   "cell_type": "code",
   "execution_count": 84,
   "id": "0887d1d1",
   "metadata": {},
   "outputs": [
    {
     "name": "stdout",
     "output_type": "stream",
     "text": [
      "Accuracy 1 cluster :  0.8585\n",
      "Wall time: 223 ms\n"
     ]
    }
   ],
   "source": [
    "%%time\n",
    "\n",
    "\n",
    "# Use K-means models to predict class labels for test data\n",
    "y_test_pred = []\n",
    "for i in range(len(X_test)):\n",
    "    # Find nearest cluster for the current test data point\n",
    "    cluster_distances = []\n",
    "    for class_label in range(10):\n",
    "        kmeans= kmeans_dict[class_label]\n",
    "        cluster_distances.append(np.sum((X_test[i] - kmeans.cluster_centers_)**2, axis=1))\n",
    "    min_index = np.unravel_index(np.array(cluster_distances).argmin(), np.array(cluster_distances).shape)\n",
    "    \n",
    "    # Use label of nearest cluster to predict class label\n",
    "    y_test_pred.append(min_index[0])\n",
    "correcta_ans=0\n",
    "for i in  range(len(y_test_pred)):\n",
    "    if y_test_pred[i]==Labels_test[i]:\n",
    "        correcta_ans+=1\n",
    "print(\"Accuracy 1 cluster : \",correcta_ans/len(y_test_pred))"
   ]
  },
  {
   "cell_type": "code",
   "execution_count": 85,
   "id": "7b1cc508",
   "metadata": {},
   "outputs": [],
   "source": [
    "\n",
    "\n",
    "# Define the number of clusters for each class\n",
    "num_clusters = 4\n",
    "\n",
    "# Initialize an empty dictionary to store KMeans objects for each class\n",
    "kmeans_dict = {}\n",
    "\n",
    "# Loop over each class\n",
    "for class_label in np.unique(y):\n",
    "    # Extract the observations belonging to the current class\n",
    "    X_class = X[y == class_label]\n",
    "    \n",
    "    # Initialize a KMeans object with the desired number of clusters\n",
    "    kmeans = KMeans(n_clusters=num_clusters)\n",
    "    \n",
    "    # Fit the KMeans object to the data for the current class\n",
    "    kmeans.fit(X_class)\n",
    "    \n",
    "    # Store the KMeans object in the dictionary\n",
    "    kmeans_dict[class_label] = kmeans"
   ]
  },
  {
   "cell_type": "code",
   "execution_count": 86,
   "id": "84d10fdf",
   "metadata": {},
   "outputs": [
    {
     "name": "stdout",
     "output_type": "stream",
     "text": [
      "Accuracy 4 clusters  :  0.914\n",
      "Wall time: 283 ms\n"
     ]
    }
   ],
   "source": [
    "%%time\n",
    "\n",
    "# Use K-means models to predict class labels for test data\n",
    "y_test_pred = []\n",
    "for i in range(len(X_test)):\n",
    "    # Find nearest cluster for the current test data point\n",
    "    cluster_distances = []\n",
    "    for class_label in range(10):\n",
    "        kmeans= kmeans_dict[class_label]\n",
    "        cluster_distances.append(np.sum((X_test[i] - kmeans.cluster_centers_)**2, axis=1))\n",
    "    min_index = np.unravel_index(np.array(cluster_distances).argmin(), np.array(cluster_distances).shape)\n",
    "    \n",
    "    # Use label of nearest cluster to predict class label\n",
    "    y_test_pred.append(min_index[0])\n",
    "correcta_ans=0\n",
    "for i in  range(len(y_test_pred)):\n",
    "    if y_test_pred[i]==Labels_test[i]:\n",
    "        correcta_ans+=1\n",
    "print(\"Accuracy 4 clusters  : \",correcta_ans/len(y_test_pred))"
   ]
  },
  {
   "cell_type": "code",
   "execution_count": 87,
   "id": "5a8c135f",
   "metadata": {},
   "outputs": [],
   "source": [
    "\n",
    "# Define the number of clusters for each class\n",
    "num_clusters = 16\n",
    "\n",
    "# Initialize an empty dictionary to store KMeans objects for each class\n",
    "kmeans_dict = {}\n",
    "\n",
    "# Loop over each class\n",
    "for class_label in np.unique(y):\n",
    "    # Extract the observations belonging to the current class\n",
    "    X_class = X[y == class_label]\n",
    "    \n",
    "    # Initialize a KMeans object with the desired number of clusters\n",
    "    kmeans = KMeans(n_clusters=num_clusters)\n",
    "    \n",
    "    # Fit the KMeans object to the data for the current class\n",
    "    kmeans.fit(X_class)\n",
    "    \n",
    "    # Store the KMeans object in the dictionary\n",
    "    kmeans_dict[class_label] = kmeans"
   ]
  },
  {
   "cell_type": "code",
   "execution_count": 88,
   "id": "230626f8",
   "metadata": {},
   "outputs": [
    {
     "name": "stdout",
     "output_type": "stream",
     "text": [
      "Accuracy 16 clusters  :  0.942\n",
      "Wall time: 355 ms\n"
     ]
    }
   ],
   "source": [
    "%%time\n",
    "\n",
    "# Use K-means models to predict class labels for test data\n",
    "y_test_pred = []\n",
    "for i in range(len(X_test)):\n",
    "    # Find nearest cluster for the current test data point\n",
    "    cluster_distances = []\n",
    "    for class_label in range(10):\n",
    "        kmeans= kmeans_dict[class_label]\n",
    "        cluster_distances.append(np.sum((X_test[i] - kmeans.cluster_centers_)**2, axis=1))\n",
    "    min_index = np.unravel_index(np.array(cluster_distances).argmin(), np.array(cluster_distances).shape)\n",
    "    \n",
    "    # Use label of nearest cluster to predict class label\n",
    "    y_test_pred.append(min_index[0])\n",
    "correcta_ans=0\n",
    "for i in  range(len(y_test_pred)):\n",
    "    if y_test_pred[i]==Labels_test[i]:\n",
    "        correcta_ans+=1\n",
    "print(\"Accuracy 16 clusters  : \",correcta_ans/len(y_test_pred))"
   ]
  },
  {
   "cell_type": "code",
   "execution_count": 89,
   "id": "83a96e95",
   "metadata": {},
   "outputs": [],
   "source": [
    "\n",
    "# Define the number of clusters for each class\n",
    "num_clusters = 32\n",
    "\n",
    "# Initialize an empty dictionary to store KMeans objects for each class\n",
    "kmeans_dict = {}\n",
    "\n",
    "# Loop over each class\n",
    "for class_label in np.unique(y):\n",
    "    # Extract the observations belonging to the current class\n",
    "    X_class = X[y == class_label]\n",
    "    \n",
    "    # Initialize a KMeans object with the desired number of clusters\n",
    "    kmeans = KMeans(n_clusters=num_clusters)\n",
    "    \n",
    "    # Fit the KMeans object to the data for the current class\n",
    "    kmeans.fit(X_class)\n",
    "    \n",
    "    # Store the KMeans object in the dictionary\n",
    "    kmeans_dict[class_label] = kmeans"
   ]
  },
  {
   "cell_type": "code",
   "execution_count": 90,
   "id": "d1231d60",
   "metadata": {},
   "outputs": [
    {
     "name": "stdout",
     "output_type": "stream",
     "text": [
      "Accuracy  32 clusters :   0.946\n",
      "Wall time: 449 ms\n"
     ]
    }
   ],
   "source": [
    "%%time\n",
    "\n",
    "# Use K-means models to predict class labels for test data\n",
    "y_test_pred = []\n",
    "for i in range(len(X_test)):\n",
    "    # Find nearest cluster for the current test data point\n",
    "    cluster_distances = []\n",
    "    for class_label in range(10):\n",
    "        kmeans= kmeans_dict[class_label]\n",
    "        cluster_distances.append(np.sum((X_test[i] - kmeans.cluster_centers_)**2, axis=1))\n",
    "    min_index = np.unravel_index(np.array(cluster_distances).argmin(), np.array(cluster_distances).shape)\n",
    "    \n",
    "    # Use label of nearest cluster to predict class label\n",
    "    y_test_pred.append(min_index[0])\n",
    "correcta_ans=0\n",
    "for i in  range(len(y_test_pred)):\n",
    "    if y_test_pred[i]==Labels_test[i]:\n",
    "        correcta_ans+=1\n",
    "print(\"Accuracy  32 clusters :  \",correcta_ans/len(y_test_pred))"
   ]
  },
  {
   "cell_type": "code",
   "execution_count": 91,
   "id": "024f8771",
   "metadata": {},
   "outputs": [
    {
     "name": "stdout",
     "output_type": "stream",
     "text": [
      "Confusion Matrix:\n",
      "[[196   0   0   0   0   1   1   0   2   0]\n",
      " [  0 200   0   0   0   0   0   0   0   0]\n",
      " [  7   0 186   0   0   0   0   2   5   0]\n",
      " [  0   0   2 176   0   9   0   0  11   2]\n",
      " [  0   1   0   0 180   1   1   0   4  13]\n",
      " [  1   0   0   1   0 190   3   0   5   0]\n",
      " [  0   0   0   0   0   0 200   0   0   0]\n",
      " [  0   0   5   0   0   0   0 190   0   5]\n",
      " [  0   0   0   2   0   8   1   0 188   1]\n",
      " [  0   0   0   0   3   0   0  11   0 186]]\n"
     ]
    },
    {
     "data": {
      "image/png": "[encoded data removed]",
      "text/plain": [
       "<Figure size 640x480 with 2 Axes>"
      ]
     },
     "metadata": {},
     "output_type": "display_data"
    }
   ],
   "source": [
    "from sklearn.metrics import confusion_matrix\n",
    "import seaborn as sns\n",
    "\n",
    "# assume y_true and y_pred are your true and predicted labels, respectively\n",
    "cm = confusion_matrix(Labels_test, y_test_pred)\n",
    "\n",
    "print(\"Confusion Matrix:\")\n",
    "print(cm)\n",
    "sns.heatmap(cm, annot=True, annot_kws={\"size\": 5}) # plot the heatmap\n",
    "plt.show() # show the plot"
   ]
  },
  {
   "cell_type": "markdown",
   "id": "bcd093aa",
   "metadata": {},
   "source": [
    "### b. SVM. You may try the linear and the nonlinear kernels (like RBF). In this case  state clearly, what kernel have you used."
   ]
  },
  {
   "cell_type": "code",
   "execution_count": 92,
   "id": "8cf4d757",
   "metadata": {},
   "outputs": [],
   "source": [
    "#X=converted_data2\n",
    "#X_test=converted_data2_test\n",
    "\n",
    "X=training_dct\n",
    "X_test=test_dct\n",
    "\n",
    "#X=training_MYfeature\n",
    "#X_test=testing_MYfeature\n",
    "\n",
    "y=Labels"
   ]
  },
  {
   "cell_type": "code",
   "execution_count": 93,
   "id": "35346eec",
   "metadata": {},
   "outputs": [
    {
     "data": {
      "text/plain": [
       "SVC(kernel='linear')"
      ]
     },
     "execution_count": 93,
     "metadata": {},
     "output_type": "execute_result"
    }
   ],
   "source": [
    "#Import svm model\n",
    "from sklearn import svm\n",
    "\n",
    "#Create a svm Classifier\n",
    "clf = svm.SVC(kernel='linear') # Linear Kernel\n",
    "\n",
    "#Train the model using the training sets\n",
    "clf.fit(X, y)\n",
    "\n"
   ]
  },
  {
   "cell_type": "code",
   "execution_count": 94,
   "id": "379a813b",
   "metadata": {},
   "outputs": [
    {
     "name": "stdout",
     "output_type": "stream",
     "text": [
      "Accuracy  linear kernel :   0.9185\n",
      "Wall time: 267 ms\n"
     ]
    }
   ],
   "source": [
    "%%time\n",
    "\n",
    "#Predict the response for test dataset\n",
    "y_pred = clf.predict(X_test)\n",
    "correcta_ans=0\n",
    "for i in  range(len(y_pred)):\n",
    "    if y_pred[i]==Labels_test[i]:\n",
    "        correcta_ans+=1\n",
    "print(\"Accuracy  linear kernel :  \",correcta_ans/len(y_test_pred))"
   ]
  },
  {
   "cell_type": "code",
   "execution_count": 95,
   "id": "48157910",
   "metadata": {},
   "outputs": [
    {
     "data": {
      "text/plain": [
       "SVC(kernel='poly')"
      ]
     },
     "execution_count": 95,
     "metadata": {},
     "output_type": "execute_result"
    }
   ],
   "source": [
    "#Import svm model\n",
    "from sklearn import svm\n",
    "\n",
    "#Create a svm Classifier \n",
    "clf = svm.SVC(kernel='poly', degree=3) \n",
    "\n",
    "#Train the model using the training sets\n",
    "clf.fit(X, y)\n",
    "\n"
   ]
  },
  {
   "cell_type": "code",
   "execution_count": 96,
   "id": "b09c8975",
   "metadata": {},
   "outputs": [
    {
     "name": "stdout",
     "output_type": "stream",
     "text": [
      "Accuracy  poly degree 3 kernel :   0.9705\n",
      "Wall time: 412 ms\n"
     ]
    }
   ],
   "source": [
    "%%time\n",
    "#Predict the response for test dataset\n",
    "y_pred = clf.predict(X_test)\n",
    "\n",
    "correcta_ans=0\n",
    "for i in  range(len(y_pred)):\n",
    "    if y_pred[i]==Labels_test[i]:\n",
    "        correcta_ans+=1\n",
    "print(\"Accuracy  poly degree 3 kernel :  \",correcta_ans/len(y_test_pred))"
   ]
  },
  {
   "cell_type": "code",
   "execution_count": 97,
   "id": "f0a03c4d",
   "metadata": {},
   "outputs": [
    {
     "name": "stdout",
     "output_type": "stream",
     "text": [
      "Confusion Matrix:\n",
      "[[199   0   0   0   0   0   0   0   1   0]\n",
      " [  0 199   0   0   0   0   0   0   1   0]\n",
      " [  3   0 188   0   1   1   0   2   5   0]\n",
      " [  0   1   1 194   0   1   0   1   1   1]\n",
      " [  1   0   1   0 192   0   0   0   0   6]\n",
      " [  1   1   0   1   0 192   3   0   2   0]\n",
      " [  1   0   0   0   0   1 198   0   0   0]\n",
      " [  0   0   6   0   0   0   0 194   0   0]\n",
      " [  0   0   0   0   4   2   2   0 192   0]\n",
      " [  0   0   0   0   6   0   0   0   1 193]]\n"
     ]
    },
    {
     "data": {
      "image/png": "[encoded data removed]",
      "text/plain": [
       "<Figure size 640x480 with 2 Axes>"
      ]
     },
     "metadata": {},
     "output_type": "display_data"
    }
   ],
   "source": [
    "from sklearn.metrics import confusion_matrix\n",
    "import seaborn as sns\n",
    "\n",
    "# assume y_true and y_pred are your true and predicted labels, respectively\n",
    "cm = confusion_matrix(Labels_test, y_pred)\n",
    "\n",
    "print(\"Confusion Matrix:\")\n",
    "print(cm)\n",
    "sns.heatmap(cm, annot=True, annot_kws={\"size\": 5}) # plot the heatmap\n",
    "plt.show() # show the plot"
   ]
  },
  {
   "cell_type": "markdown",
   "id": "b8204c8a",
   "metadata": {},
   "source": [
    "### --> ADDING a final table to summarize all your results (accuracy and processing  time) in a comparative way, as the table."
   ]
  },
  {
   "cell_type": "markdown",
   "id": "0aebb980",
   "metadata": {},
   "source": [
    "<img src=\"Capture.PNG\" alt=\"TABLE\">"
   ]
  },
  {
   "cell_type": "code",
   "execution_count": 98,
   "id": "cad76c84",
   "metadata": {},
   "outputs": [],
   "source": [
    "#\n",
    "#\n",
    "#\n",
    "##\n",
    "\n",
    "#3\n",
    "\n",
    "#\n",
    "#\n",
    "#\n",
    "#\n",
    "##\n",
    "\n",
    "#3\n",
    "\n",
    "#\n",
    "#\n",
    "#\n",
    "#\n",
    "##\n",
    "\n",
    "#3\n",
    "\n",
    "#\n",
    "#\n",
    "#"
   ]
  },
  {
   "cell_type": "markdown",
   "id": "bacc908b",
   "metadata": {},
   "source": [
    "## Final conclusions"
   ]
  },
  {
   "cell_type": "markdown",
   "id": "43451b64",
   "metadata": {},
   "source": [
    "### IN K-means cluster, It is clear that the accuracy increases with the increase in the number of clusters, but after 16 clusters, we do not see a significant increase, as 32 does not add much to the accuracy, although it does add a lot to the processing time.\n",
    "\n",
    "### The SVM gives great results in a reasonable time, as it significantly outperforms the K-cluster in terms of accuracy. The third-dgree kernel also adds a lot, although it adds processing time as well, but it significantly improves accuracy.\n",
    "\n",
    "\n",
    "### In terms of features\n",
    "### The DCT showed clear superiority here in all models. on avarage my features give better processing time but with acceptable accurecy but not very good compare to DCT. PCA is left fare a way in every thing (bad accuracy/ bad processsing time) ."
   ]
  }
 ],
 "metadata": {
  "kernelspec": {
   "display_name": "Python 3 (ipykernel)",
   "language": "python",
   "name": "python3"
  },
  "language_info": {
   "codemirror_mode": {
    "name": "ipython",
    "version": 3
   },
   "file_extension": ".py",
   "mimetype": "text/x-python",
   "name": "python",
   "nbconvert_exporter": "python",
   "pygments_lexer": "ipython3",
   "version": "3.9.13"
  }
 },
 "nbformat": 4,
 "nbformat_minor": 5
}
